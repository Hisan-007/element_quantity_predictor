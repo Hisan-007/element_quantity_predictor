{
 "cells": [
  {
   "cell_type": "code",
   "execution_count": 79,
   "id": "exclusive-cleaner",
   "metadata": {},
   "outputs": [],
   "source": [
    "import pandas as pd\n",
    "import numpy as np\n",
    "import seaborn as sns\n",
    "from matplotlib import pyplot as plt\n",
    "from imblearn.over_sampling import SMOTE\n",
    "import xgboost as xg\n",
    "path = \"Dataset.xlsx\""
   ]
  },
  {
   "cell_type": "code",
   "execution_count": 2,
   "id": "negative-interstate",
   "metadata": {},
   "outputs": [],
   "source": [
    "file = pd.ExcelFile(path)\n",
    "\n",
    "dfs = {sheet_name: file.parse(sheet_name) \n",
    "          for sheet_name in file.sheet_names}"
   ]
  },
  {
   "cell_type": "code",
   "execution_count": 3,
   "id": "current-nursery",
   "metadata": {},
   "outputs": [
    {
     "data": {
      "text/plain": [
       "dict_keys(['Material_Data_Dict', 'Comp_Data_Dict', 'CS', 'SS(Ave)', 'SS1', 'SS2', 'FE', 'AT1', 'AT2', 'AT3', 'AT4', 'AT5', 'AT(Ave)'])"
      ]
     },
     "execution_count": 3,
     "metadata": {},
     "output_type": "execute_result"
    }
   ],
   "source": [
    "dfs.keys()"
   ]
  },
  {
   "cell_type": "code",
   "execution_count": 4,
   "id": "relative-brand",
   "metadata": {},
   "outputs": [],
   "source": [
    "class DataCreator:\n",
    "    \n",
    "    def __init__(self, path):\n",
    "        file = pd.ExcelFile(path)\n",
    "        dfs = {sheet_name: file.parse(sheet_name) \n",
    "          for sheet_name in file.sheet_names}\n",
    "        self.dfs = dfs\n",
    "        colsa = ['BOD','NH3-N','PH','TN'] # ss avg columns\n",
    "        colsb = ['MLSS', 'AT_Temp'] # at avg columns\n",
    "        self.df = pd.concat([ dfs['SS(Ave)'][colsa] , dfs['AT(Ave)'][colsb] ], axis = 1)\n",
    "        self.odf = dfs['FE'][['BOD', \"NH3-N\", 'TN']]\n",
    "    \n",
    "    def get_bod(self):\n",
    "        dfs = self.dfs\n",
    "        self.bod = dfs['FE']['BOD']\n",
    "        self.bod = self.bod.rename('BOD_Y')\n",
    "        return self.bod\n",
    "        #display(self.bod)\n",
    "    def get_nh3(self):\n",
    "        dfs = self.dfs\n",
    "        self.nh3 = dfs['FE']['NH3-N']\n",
    "        self.nh3 = self.nh3.rename('NH3_Y')\n",
    "        return self.nh3\n",
    "        #display(self.nh3)\n",
    "    def get_tn(self):\n",
    "        dfs = self.dfs\n",
    "        self.tn = dfs['FE']['TN']\n",
    "        self.tn = self.bod.rename('TN_Y')\n",
    "        return self.tn\n",
    "        #display(self.tn)\n",
    "        \n",
    "    def first_df(self):\n",
    "        return pd.concat([self.df, self.get_bod()], axis = 1)\n",
    "    def second_df(self):\n",
    "        return pd.concat([self.df, self.get_nh3()], axis = 1)\n",
    "    def third_df(self):\n",
    "        return pd.concat([self.df, self.get_tn()], axis = 1)\n",
    "        "
   ]
  },
  {
   "cell_type": "code",
   "execution_count": 5,
   "id": "adapted-characterization",
   "metadata": {},
   "outputs": [
    {
     "data": {
      "text/html": [
       "<div>\n",
       "<style scoped>\n",
       "    .dataframe tbody tr th:only-of-type {\n",
       "        vertical-align: middle;\n",
       "    }\n",
       "\n",
       "    .dataframe tbody tr th {\n",
       "        vertical-align: top;\n",
       "    }\n",
       "\n",
       "    .dataframe thead th {\n",
       "        text-align: right;\n",
       "    }\n",
       "</style>\n",
       "<table border=\"1\" class=\"dataframe\">\n",
       "  <thead>\n",
       "    <tr style=\"text-align: right;\">\n",
       "      <th></th>\n",
       "      <th>BOD</th>\n",
       "      <th>NH3-N</th>\n",
       "      <th>PH</th>\n",
       "      <th>TN</th>\n",
       "      <th>MLSS</th>\n",
       "      <th>AT_Temp</th>\n",
       "    </tr>\n",
       "  </thead>\n",
       "  <tbody>\n",
       "    <tr>\n",
       "      <th>0</th>\n",
       "      <td>NaN</td>\n",
       "      <td>25.0</td>\n",
       "      <td>7.4</td>\n",
       "      <td>NaN</td>\n",
       "      <td>NaN</td>\n",
       "      <td>21.350</td>\n",
       "    </tr>\n",
       "    <tr>\n",
       "      <th>1</th>\n",
       "      <td>NaN</td>\n",
       "      <td>NaN</td>\n",
       "      <td>NaN</td>\n",
       "      <td>NaN</td>\n",
       "      <td>2540.0</td>\n",
       "      <td>21.850</td>\n",
       "    </tr>\n",
       "    <tr>\n",
       "      <th>2</th>\n",
       "      <td>120.0</td>\n",
       "      <td>31.0</td>\n",
       "      <td>8.1</td>\n",
       "      <td>45.0</td>\n",
       "      <td>NaN</td>\n",
       "      <td>22.400</td>\n",
       "    </tr>\n",
       "    <tr>\n",
       "      <th>3</th>\n",
       "      <td>NaN</td>\n",
       "      <td>NaN</td>\n",
       "      <td>NaN</td>\n",
       "      <td>NaN</td>\n",
       "      <td>2230.0</td>\n",
       "      <td>21.975</td>\n",
       "    </tr>\n",
       "    <tr>\n",
       "      <th>4</th>\n",
       "      <td>NaN</td>\n",
       "      <td>NaN</td>\n",
       "      <td>NaN</td>\n",
       "      <td>NaN</td>\n",
       "      <td>NaN</td>\n",
       "      <td>21.100</td>\n",
       "    </tr>\n",
       "    <tr>\n",
       "      <th>...</th>\n",
       "      <td>...</td>\n",
       "      <td>...</td>\n",
       "      <td>...</td>\n",
       "      <td>...</td>\n",
       "      <td>...</td>\n",
       "      <td>...</td>\n",
       "    </tr>\n",
       "    <tr>\n",
       "      <th>2186</th>\n",
       "      <td>120.0</td>\n",
       "      <td>31.0</td>\n",
       "      <td>7.3</td>\n",
       "      <td>56.0</td>\n",
       "      <td>3430.0</td>\n",
       "      <td>23.150</td>\n",
       "    </tr>\n",
       "    <tr>\n",
       "      <th>2187</th>\n",
       "      <td>NaN</td>\n",
       "      <td>NaN</td>\n",
       "      <td>NaN</td>\n",
       "      <td>NaN</td>\n",
       "      <td>3330.0</td>\n",
       "      <td>21.925</td>\n",
       "    </tr>\n",
       "    <tr>\n",
       "      <th>2188</th>\n",
       "      <td>NaN</td>\n",
       "      <td>NaN</td>\n",
       "      <td>NaN</td>\n",
       "      <td>NaN</td>\n",
       "      <td>NaN</td>\n",
       "      <td>21.075</td>\n",
       "    </tr>\n",
       "    <tr>\n",
       "      <th>2189</th>\n",
       "      <td>NaN</td>\n",
       "      <td>29.0</td>\n",
       "      <td>7.2</td>\n",
       "      <td>NaN</td>\n",
       "      <td>NaN</td>\n",
       "      <td>20.700</td>\n",
       "    </tr>\n",
       "    <tr>\n",
       "      <th>2190</th>\n",
       "      <td>NaN</td>\n",
       "      <td>30.0</td>\n",
       "      <td>7.4</td>\n",
       "      <td>NaN</td>\n",
       "      <td>3290.0</td>\n",
       "      <td>20.700</td>\n",
       "    </tr>\n",
       "  </tbody>\n",
       "</table>\n",
       "<p>2191 rows × 6 columns</p>\n",
       "</div>"
      ],
      "text/plain": [
       "        BOD  NH3-N   PH    TN    MLSS  AT_Temp\n",
       "0       NaN   25.0  7.4   NaN     NaN   21.350\n",
       "1       NaN    NaN  NaN   NaN  2540.0   21.850\n",
       "2     120.0   31.0  8.1  45.0     NaN   22.400\n",
       "3       NaN    NaN  NaN   NaN  2230.0   21.975\n",
       "4       NaN    NaN  NaN   NaN     NaN   21.100\n",
       "...     ...    ...  ...   ...     ...      ...\n",
       "2186  120.0   31.0  7.3  56.0  3430.0   23.150\n",
       "2187    NaN    NaN  NaN   NaN  3330.0   21.925\n",
       "2188    NaN    NaN  NaN   NaN     NaN   21.075\n",
       "2189    NaN   29.0  7.2   NaN     NaN   20.700\n",
       "2190    NaN   30.0  7.4   NaN  3290.0   20.700\n",
       "\n",
       "[2191 rows x 6 columns]"
      ]
     },
     "execution_count": 5,
     "metadata": {},
     "output_type": "execute_result"
    }
   ],
   "source": [
    "dc = DataCreator(path)\n",
    "dc.df"
   ]
  },
  {
   "cell_type": "code",
   "execution_count": 6,
   "id": "broken-cloud",
   "metadata": {},
   "outputs": [
    {
     "data": {
      "text/plain": [
       "0        True\n",
       "1       False\n",
       "2        True\n",
       "3       False\n",
       "4       False\n",
       "        ...  \n",
       "2186     True\n",
       "2187    False\n",
       "2188    False\n",
       "2189    False\n",
       "2190    False\n",
       "Name: BOD_Y, Length: 2191, dtype: bool"
      ]
     },
     "execution_count": 6,
     "metadata": {},
     "output_type": "execute_result"
    }
   ],
   "source": [
    "ind = dc.get_bod().notna()\n",
    "ind"
   ]
  },
  {
   "cell_type": "code",
   "execution_count": 7,
   "id": "higher-alliance",
   "metadata": {},
   "outputs": [
    {
     "data": {
      "text/html": [
       "<div>\n",
       "<style scoped>\n",
       "    .dataframe tbody tr th:only-of-type {\n",
       "        vertical-align: middle;\n",
       "    }\n",
       "\n",
       "    .dataframe tbody tr th {\n",
       "        vertical-align: top;\n",
       "    }\n",
       "\n",
       "    .dataframe thead th {\n",
       "        text-align: right;\n",
       "    }\n",
       "</style>\n",
       "<table border=\"1\" class=\"dataframe\">\n",
       "  <thead>\n",
       "    <tr style=\"text-align: right;\">\n",
       "      <th></th>\n",
       "      <th>BOD</th>\n",
       "      <th>NH3-N</th>\n",
       "      <th>TN</th>\n",
       "    </tr>\n",
       "  </thead>\n",
       "  <tbody>\n",
       "    <tr>\n",
       "      <th>0</th>\n",
       "      <td>5.0</td>\n",
       "      <td>0.50</td>\n",
       "      <td>9.4</td>\n",
       "    </tr>\n",
       "    <tr>\n",
       "      <th>2</th>\n",
       "      <td>5.0</td>\n",
       "      <td>0.54</td>\n",
       "      <td>11.0</td>\n",
       "    </tr>\n",
       "    <tr>\n",
       "      <th>7</th>\n",
       "      <td>5.0</td>\n",
       "      <td>0.59</td>\n",
       "      <td>8.9</td>\n",
       "    </tr>\n",
       "    <tr>\n",
       "      <th>8</th>\n",
       "      <td>5.0</td>\n",
       "      <td>0.70</td>\n",
       "      <td>NaN</td>\n",
       "    </tr>\n",
       "    <tr>\n",
       "      <th>9</th>\n",
       "      <td>5.0</td>\n",
       "      <td>0.98</td>\n",
       "      <td>12.0</td>\n",
       "    </tr>\n",
       "    <tr>\n",
       "      <th>...</th>\n",
       "      <td>...</td>\n",
       "      <td>...</td>\n",
       "      <td>...</td>\n",
       "    </tr>\n",
       "    <tr>\n",
       "      <th>2178</th>\n",
       "      <td>5.0</td>\n",
       "      <td>0.50</td>\n",
       "      <td>NaN</td>\n",
       "    </tr>\n",
       "    <tr>\n",
       "      <th>2179</th>\n",
       "      <td>5.0</td>\n",
       "      <td>0.50</td>\n",
       "      <td>4.7</td>\n",
       "    </tr>\n",
       "    <tr>\n",
       "      <th>2184</th>\n",
       "      <td>5.0</td>\n",
       "      <td>0.50</td>\n",
       "      <td>3.9</td>\n",
       "    </tr>\n",
       "    <tr>\n",
       "      <th>2185</th>\n",
       "      <td>5.0</td>\n",
       "      <td>0.50</td>\n",
       "      <td>NaN</td>\n",
       "    </tr>\n",
       "    <tr>\n",
       "      <th>2186</th>\n",
       "      <td>5.0</td>\n",
       "      <td>0.50</td>\n",
       "      <td>3.8</td>\n",
       "    </tr>\n",
       "  </tbody>\n",
       "</table>\n",
       "<p>931 rows × 3 columns</p>\n",
       "</div>"
      ],
      "text/plain": [
       "      BOD  NH3-N    TN\n",
       "0     5.0   0.50   9.4\n",
       "2     5.0   0.54  11.0\n",
       "7     5.0   0.59   8.9\n",
       "8     5.0   0.70   NaN\n",
       "9     5.0   0.98  12.0\n",
       "...   ...    ...   ...\n",
       "2178  5.0   0.50   NaN\n",
       "2179  5.0   0.50   4.7\n",
       "2184  5.0   0.50   3.9\n",
       "2185  5.0   0.50   NaN\n",
       "2186  5.0   0.50   3.8\n",
       "\n",
       "[931 rows x 3 columns]"
      ]
     },
     "execution_count": 7,
     "metadata": {},
     "output_type": "execute_result"
    }
   ],
   "source": [
    "dc.odf[ind]"
   ]
  },
  {
   "cell_type": "code",
   "execution_count": 8,
   "id": "minimal-better",
   "metadata": {},
   "outputs": [
    {
     "data": {
      "text/html": [
       "<div>\n",
       "<style scoped>\n",
       "    .dataframe tbody tr th:only-of-type {\n",
       "        vertical-align: middle;\n",
       "    }\n",
       "\n",
       "    .dataframe tbody tr th {\n",
       "        vertical-align: top;\n",
       "    }\n",
       "\n",
       "    .dataframe thead th {\n",
       "        text-align: right;\n",
       "    }\n",
       "</style>\n",
       "<table border=\"1\" class=\"dataframe\">\n",
       "  <thead>\n",
       "    <tr style=\"text-align: right;\">\n",
       "      <th></th>\n",
       "      <th>BOD</th>\n",
       "      <th>NH3-N</th>\n",
       "      <th>PH</th>\n",
       "      <th>TN</th>\n",
       "      <th>MLSS</th>\n",
       "      <th>AT_Temp</th>\n",
       "      <th>BOD_Y</th>\n",
       "    </tr>\n",
       "  </thead>\n",
       "  <tbody>\n",
       "    <tr>\n",
       "      <th>0</th>\n",
       "      <td>NaN</td>\n",
       "      <td>25.0</td>\n",
       "      <td>7.4</td>\n",
       "      <td>NaN</td>\n",
       "      <td>NaN</td>\n",
       "      <td>21.350</td>\n",
       "      <td>5.0</td>\n",
       "    </tr>\n",
       "    <tr>\n",
       "      <th>1</th>\n",
       "      <td>NaN</td>\n",
       "      <td>NaN</td>\n",
       "      <td>NaN</td>\n",
       "      <td>NaN</td>\n",
       "      <td>2540.0</td>\n",
       "      <td>21.850</td>\n",
       "      <td>NaN</td>\n",
       "    </tr>\n",
       "    <tr>\n",
       "      <th>2</th>\n",
       "      <td>120.0</td>\n",
       "      <td>31.0</td>\n",
       "      <td>8.1</td>\n",
       "      <td>45.0</td>\n",
       "      <td>NaN</td>\n",
       "      <td>22.400</td>\n",
       "      <td>5.0</td>\n",
       "    </tr>\n",
       "    <tr>\n",
       "      <th>3</th>\n",
       "      <td>NaN</td>\n",
       "      <td>NaN</td>\n",
       "      <td>NaN</td>\n",
       "      <td>NaN</td>\n",
       "      <td>2230.0</td>\n",
       "      <td>21.975</td>\n",
       "      <td>NaN</td>\n",
       "    </tr>\n",
       "    <tr>\n",
       "      <th>4</th>\n",
       "      <td>NaN</td>\n",
       "      <td>NaN</td>\n",
       "      <td>NaN</td>\n",
       "      <td>NaN</td>\n",
       "      <td>NaN</td>\n",
       "      <td>21.100</td>\n",
       "      <td>NaN</td>\n",
       "    </tr>\n",
       "    <tr>\n",
       "      <th>...</th>\n",
       "      <td>...</td>\n",
       "      <td>...</td>\n",
       "      <td>...</td>\n",
       "      <td>...</td>\n",
       "      <td>...</td>\n",
       "      <td>...</td>\n",
       "      <td>...</td>\n",
       "    </tr>\n",
       "    <tr>\n",
       "      <th>2186</th>\n",
       "      <td>120.0</td>\n",
       "      <td>31.0</td>\n",
       "      <td>7.3</td>\n",
       "      <td>56.0</td>\n",
       "      <td>3430.0</td>\n",
       "      <td>23.150</td>\n",
       "      <td>5.0</td>\n",
       "    </tr>\n",
       "    <tr>\n",
       "      <th>2187</th>\n",
       "      <td>NaN</td>\n",
       "      <td>NaN</td>\n",
       "      <td>NaN</td>\n",
       "      <td>NaN</td>\n",
       "      <td>3330.0</td>\n",
       "      <td>21.925</td>\n",
       "      <td>NaN</td>\n",
       "    </tr>\n",
       "    <tr>\n",
       "      <th>2188</th>\n",
       "      <td>NaN</td>\n",
       "      <td>NaN</td>\n",
       "      <td>NaN</td>\n",
       "      <td>NaN</td>\n",
       "      <td>NaN</td>\n",
       "      <td>21.075</td>\n",
       "      <td>NaN</td>\n",
       "    </tr>\n",
       "    <tr>\n",
       "      <th>2189</th>\n",
       "      <td>NaN</td>\n",
       "      <td>29.0</td>\n",
       "      <td>7.2</td>\n",
       "      <td>NaN</td>\n",
       "      <td>NaN</td>\n",
       "      <td>20.700</td>\n",
       "      <td>NaN</td>\n",
       "    </tr>\n",
       "    <tr>\n",
       "      <th>2190</th>\n",
       "      <td>NaN</td>\n",
       "      <td>30.0</td>\n",
       "      <td>7.4</td>\n",
       "      <td>NaN</td>\n",
       "      <td>3290.0</td>\n",
       "      <td>20.700</td>\n",
       "      <td>NaN</td>\n",
       "    </tr>\n",
       "  </tbody>\n",
       "</table>\n",
       "<p>2191 rows × 7 columns</p>\n",
       "</div>"
      ],
      "text/plain": [
       "        BOD  NH3-N   PH    TN    MLSS  AT_Temp  BOD_Y\n",
       "0       NaN   25.0  7.4   NaN     NaN   21.350    5.0\n",
       "1       NaN    NaN  NaN   NaN  2540.0   21.850    NaN\n",
       "2     120.0   31.0  8.1  45.0     NaN   22.400    5.0\n",
       "3       NaN    NaN  NaN   NaN  2230.0   21.975    NaN\n",
       "4       NaN    NaN  NaN   NaN     NaN   21.100    NaN\n",
       "...     ...    ...  ...   ...     ...      ...    ...\n",
       "2186  120.0   31.0  7.3  56.0  3430.0   23.150    5.0\n",
       "2187    NaN    NaN  NaN   NaN  3330.0   21.925    NaN\n",
       "2188    NaN    NaN  NaN   NaN     NaN   21.075    NaN\n",
       "2189    NaN   29.0  7.2   NaN     NaN   20.700    NaN\n",
       "2190    NaN   30.0  7.4   NaN  3290.0   20.700    NaN\n",
       "\n",
       "[2191 rows x 7 columns]"
      ]
     },
     "metadata": {},
     "output_type": "display_data"
    },
    {
     "data": {
      "text/html": [
       "<div>\n",
       "<style scoped>\n",
       "    .dataframe tbody tr th:only-of-type {\n",
       "        vertical-align: middle;\n",
       "    }\n",
       "\n",
       "    .dataframe tbody tr th {\n",
       "        vertical-align: top;\n",
       "    }\n",
       "\n",
       "    .dataframe thead th {\n",
       "        text-align: right;\n",
       "    }\n",
       "</style>\n",
       "<table border=\"1\" class=\"dataframe\">\n",
       "  <thead>\n",
       "    <tr style=\"text-align: right;\">\n",
       "      <th></th>\n",
       "      <th>BOD</th>\n",
       "      <th>NH3-N</th>\n",
       "      <th>PH</th>\n",
       "      <th>TN</th>\n",
       "      <th>MLSS</th>\n",
       "      <th>AT_Temp</th>\n",
       "      <th>NH3_Y</th>\n",
       "    </tr>\n",
       "  </thead>\n",
       "  <tbody>\n",
       "    <tr>\n",
       "      <th>0</th>\n",
       "      <td>NaN</td>\n",
       "      <td>25.0</td>\n",
       "      <td>7.4</td>\n",
       "      <td>NaN</td>\n",
       "      <td>NaN</td>\n",
       "      <td>21.350</td>\n",
       "      <td>0.50</td>\n",
       "    </tr>\n",
       "    <tr>\n",
       "      <th>1</th>\n",
       "      <td>NaN</td>\n",
       "      <td>NaN</td>\n",
       "      <td>NaN</td>\n",
       "      <td>NaN</td>\n",
       "      <td>2540.0</td>\n",
       "      <td>21.850</td>\n",
       "      <td>NaN</td>\n",
       "    </tr>\n",
       "    <tr>\n",
       "      <th>2</th>\n",
       "      <td>120.0</td>\n",
       "      <td>31.0</td>\n",
       "      <td>8.1</td>\n",
       "      <td>45.0</td>\n",
       "      <td>NaN</td>\n",
       "      <td>22.400</td>\n",
       "      <td>0.54</td>\n",
       "    </tr>\n",
       "    <tr>\n",
       "      <th>3</th>\n",
       "      <td>NaN</td>\n",
       "      <td>NaN</td>\n",
       "      <td>NaN</td>\n",
       "      <td>NaN</td>\n",
       "      <td>2230.0</td>\n",
       "      <td>21.975</td>\n",
       "      <td>NaN</td>\n",
       "    </tr>\n",
       "    <tr>\n",
       "      <th>4</th>\n",
       "      <td>NaN</td>\n",
       "      <td>NaN</td>\n",
       "      <td>NaN</td>\n",
       "      <td>NaN</td>\n",
       "      <td>NaN</td>\n",
       "      <td>21.100</td>\n",
       "      <td>NaN</td>\n",
       "    </tr>\n",
       "    <tr>\n",
       "      <th>...</th>\n",
       "      <td>...</td>\n",
       "      <td>...</td>\n",
       "      <td>...</td>\n",
       "      <td>...</td>\n",
       "      <td>...</td>\n",
       "      <td>...</td>\n",
       "      <td>...</td>\n",
       "    </tr>\n",
       "    <tr>\n",
       "      <th>2186</th>\n",
       "      <td>120.0</td>\n",
       "      <td>31.0</td>\n",
       "      <td>7.3</td>\n",
       "      <td>56.0</td>\n",
       "      <td>3430.0</td>\n",
       "      <td>23.150</td>\n",
       "      <td>0.50</td>\n",
       "    </tr>\n",
       "    <tr>\n",
       "      <th>2187</th>\n",
       "      <td>NaN</td>\n",
       "      <td>NaN</td>\n",
       "      <td>NaN</td>\n",
       "      <td>NaN</td>\n",
       "      <td>3330.0</td>\n",
       "      <td>21.925</td>\n",
       "      <td>NaN</td>\n",
       "    </tr>\n",
       "    <tr>\n",
       "      <th>2188</th>\n",
       "      <td>NaN</td>\n",
       "      <td>NaN</td>\n",
       "      <td>NaN</td>\n",
       "      <td>NaN</td>\n",
       "      <td>NaN</td>\n",
       "      <td>21.075</td>\n",
       "      <td>NaN</td>\n",
       "    </tr>\n",
       "    <tr>\n",
       "      <th>2189</th>\n",
       "      <td>NaN</td>\n",
       "      <td>29.0</td>\n",
       "      <td>7.2</td>\n",
       "      <td>NaN</td>\n",
       "      <td>NaN</td>\n",
       "      <td>20.700</td>\n",
       "      <td>0.50</td>\n",
       "    </tr>\n",
       "    <tr>\n",
       "      <th>2190</th>\n",
       "      <td>NaN</td>\n",
       "      <td>30.0</td>\n",
       "      <td>7.4</td>\n",
       "      <td>NaN</td>\n",
       "      <td>3290.0</td>\n",
       "      <td>20.700</td>\n",
       "      <td>0.50</td>\n",
       "    </tr>\n",
       "  </tbody>\n",
       "</table>\n",
       "<p>2191 rows × 7 columns</p>\n",
       "</div>"
      ],
      "text/plain": [
       "        BOD  NH3-N   PH    TN    MLSS  AT_Temp  NH3_Y\n",
       "0       NaN   25.0  7.4   NaN     NaN   21.350   0.50\n",
       "1       NaN    NaN  NaN   NaN  2540.0   21.850    NaN\n",
       "2     120.0   31.0  8.1  45.0     NaN   22.400   0.54\n",
       "3       NaN    NaN  NaN   NaN  2230.0   21.975    NaN\n",
       "4       NaN    NaN  NaN   NaN     NaN   21.100    NaN\n",
       "...     ...    ...  ...   ...     ...      ...    ...\n",
       "2186  120.0   31.0  7.3  56.0  3430.0   23.150   0.50\n",
       "2187    NaN    NaN  NaN   NaN  3330.0   21.925    NaN\n",
       "2188    NaN    NaN  NaN   NaN     NaN   21.075    NaN\n",
       "2189    NaN   29.0  7.2   NaN     NaN   20.700   0.50\n",
       "2190    NaN   30.0  7.4   NaN  3290.0   20.700   0.50\n",
       "\n",
       "[2191 rows x 7 columns]"
      ]
     },
     "metadata": {},
     "output_type": "display_data"
    },
    {
     "data": {
      "text/html": [
       "<div>\n",
       "<style scoped>\n",
       "    .dataframe tbody tr th:only-of-type {\n",
       "        vertical-align: middle;\n",
       "    }\n",
       "\n",
       "    .dataframe tbody tr th {\n",
       "        vertical-align: top;\n",
       "    }\n",
       "\n",
       "    .dataframe thead th {\n",
       "        text-align: right;\n",
       "    }\n",
       "</style>\n",
       "<table border=\"1\" class=\"dataframe\">\n",
       "  <thead>\n",
       "    <tr style=\"text-align: right;\">\n",
       "      <th></th>\n",
       "      <th>BOD</th>\n",
       "      <th>NH3-N</th>\n",
       "      <th>PH</th>\n",
       "      <th>TN</th>\n",
       "      <th>MLSS</th>\n",
       "      <th>AT_Temp</th>\n",
       "      <th>TN_Y</th>\n",
       "    </tr>\n",
       "  </thead>\n",
       "  <tbody>\n",
       "    <tr>\n",
       "      <th>0</th>\n",
       "      <td>NaN</td>\n",
       "      <td>25.0</td>\n",
       "      <td>7.4</td>\n",
       "      <td>NaN</td>\n",
       "      <td>NaN</td>\n",
       "      <td>21.350</td>\n",
       "      <td>5.0</td>\n",
       "    </tr>\n",
       "    <tr>\n",
       "      <th>1</th>\n",
       "      <td>NaN</td>\n",
       "      <td>NaN</td>\n",
       "      <td>NaN</td>\n",
       "      <td>NaN</td>\n",
       "      <td>2540.0</td>\n",
       "      <td>21.850</td>\n",
       "      <td>NaN</td>\n",
       "    </tr>\n",
       "    <tr>\n",
       "      <th>2</th>\n",
       "      <td>120.0</td>\n",
       "      <td>31.0</td>\n",
       "      <td>8.1</td>\n",
       "      <td>45.0</td>\n",
       "      <td>NaN</td>\n",
       "      <td>22.400</td>\n",
       "      <td>5.0</td>\n",
       "    </tr>\n",
       "    <tr>\n",
       "      <th>3</th>\n",
       "      <td>NaN</td>\n",
       "      <td>NaN</td>\n",
       "      <td>NaN</td>\n",
       "      <td>NaN</td>\n",
       "      <td>2230.0</td>\n",
       "      <td>21.975</td>\n",
       "      <td>NaN</td>\n",
       "    </tr>\n",
       "    <tr>\n",
       "      <th>4</th>\n",
       "      <td>NaN</td>\n",
       "      <td>NaN</td>\n",
       "      <td>NaN</td>\n",
       "      <td>NaN</td>\n",
       "      <td>NaN</td>\n",
       "      <td>21.100</td>\n",
       "      <td>NaN</td>\n",
       "    </tr>\n",
       "    <tr>\n",
       "      <th>...</th>\n",
       "      <td>...</td>\n",
       "      <td>...</td>\n",
       "      <td>...</td>\n",
       "      <td>...</td>\n",
       "      <td>...</td>\n",
       "      <td>...</td>\n",
       "      <td>...</td>\n",
       "    </tr>\n",
       "    <tr>\n",
       "      <th>2186</th>\n",
       "      <td>120.0</td>\n",
       "      <td>31.0</td>\n",
       "      <td>7.3</td>\n",
       "      <td>56.0</td>\n",
       "      <td>3430.0</td>\n",
       "      <td>23.150</td>\n",
       "      <td>5.0</td>\n",
       "    </tr>\n",
       "    <tr>\n",
       "      <th>2187</th>\n",
       "      <td>NaN</td>\n",
       "      <td>NaN</td>\n",
       "      <td>NaN</td>\n",
       "      <td>NaN</td>\n",
       "      <td>3330.0</td>\n",
       "      <td>21.925</td>\n",
       "      <td>NaN</td>\n",
       "    </tr>\n",
       "    <tr>\n",
       "      <th>2188</th>\n",
       "      <td>NaN</td>\n",
       "      <td>NaN</td>\n",
       "      <td>NaN</td>\n",
       "      <td>NaN</td>\n",
       "      <td>NaN</td>\n",
       "      <td>21.075</td>\n",
       "      <td>NaN</td>\n",
       "    </tr>\n",
       "    <tr>\n",
       "      <th>2189</th>\n",
       "      <td>NaN</td>\n",
       "      <td>29.0</td>\n",
       "      <td>7.2</td>\n",
       "      <td>NaN</td>\n",
       "      <td>NaN</td>\n",
       "      <td>20.700</td>\n",
       "      <td>NaN</td>\n",
       "    </tr>\n",
       "    <tr>\n",
       "      <th>2190</th>\n",
       "      <td>NaN</td>\n",
       "      <td>30.0</td>\n",
       "      <td>7.4</td>\n",
       "      <td>NaN</td>\n",
       "      <td>3290.0</td>\n",
       "      <td>20.700</td>\n",
       "      <td>NaN</td>\n",
       "    </tr>\n",
       "  </tbody>\n",
       "</table>\n",
       "<p>2191 rows × 7 columns</p>\n",
       "</div>"
      ],
      "text/plain": [
       "        BOD  NH3-N   PH    TN    MLSS  AT_Temp  TN_Y\n",
       "0       NaN   25.0  7.4   NaN     NaN   21.350   5.0\n",
       "1       NaN    NaN  NaN   NaN  2540.0   21.850   NaN\n",
       "2     120.0   31.0  8.1  45.0     NaN   22.400   5.0\n",
       "3       NaN    NaN  NaN   NaN  2230.0   21.975   NaN\n",
       "4       NaN    NaN  NaN   NaN     NaN   21.100   NaN\n",
       "...     ...    ...  ...   ...     ...      ...   ...\n",
       "2186  120.0   31.0  7.3  56.0  3430.0   23.150   5.0\n",
       "2187    NaN    NaN  NaN   NaN  3330.0   21.925   NaN\n",
       "2188    NaN    NaN  NaN   NaN     NaN   21.075   NaN\n",
       "2189    NaN   29.0  7.2   NaN     NaN   20.700   NaN\n",
       "2190    NaN   30.0  7.4   NaN  3290.0   20.700   NaN\n",
       "\n",
       "[2191 rows x 7 columns]"
      ]
     },
     "metadata": {},
     "output_type": "display_data"
    }
   ],
   "source": [
    "df1 = dc.first_df()\n",
    "df2 = dc.second_df()\n",
    "df3 = dc.third_df()\n",
    "display(df1)\n",
    "display(df2)\n",
    "display(df3)"
   ]
  },
  {
   "cell_type": "code",
   "execution_count": 9,
   "id": "public-albuquerque",
   "metadata": {},
   "outputs": [
    {
     "data": {
      "text/plain": [
       "Index(['BOD', 'NH3-N', 'PH', 'TN', 'MLSS', 'AT_Temp', 'BOD_Y'], dtype='object')"
      ]
     },
     "execution_count": 9,
     "metadata": {},
     "output_type": "execute_result"
    }
   ],
   "source": [
    "df1.columns"
   ]
  },
  {
   "cell_type": "code",
   "execution_count": 10,
   "id": "sustainable-prison",
   "metadata": {},
   "outputs": [
    {
     "data": {
      "text/plain": [
       "<AxesSubplot:>"
      ]
     },
     "execution_count": 10,
     "metadata": {},
     "output_type": "execute_result"
    },
    {
     "data": {
      "image/png": "[encoded data removed]",
      "text/plain": [
       "<Figure size 432x288 with 1 Axes>"
      ]
     },
     "metadata": {
      "needs_background": "light"
     },
     "output_type": "display_data"
    }
   ],
   "source": [
    "sns.lineplot(data = dc.first_df())"
   ]
  },
  {
   "cell_type": "code",
   "execution_count": 11,
   "id": "manufactured-bedroom",
   "metadata": {},
   "outputs": [
    {
     "data": {
      "image/png": "[encoded data removed]",
      "text/plain": [
       "<Figure size 432x288 with 1 Axes>"
      ]
     },
     "metadata": {
      "needs_background": "light"
     },
     "output_type": "display_data"
    }
   ],
   "source": [
    "#plt.plot(df1.index, df1['BOD_Y'])\n",
    "plt.scatter(df1.index, df1['BOD_Y'], s = 3, color = 'orange')\n",
    "plt.show()"
   ]
  },
  {
   "cell_type": "code",
   "execution_count": 21,
   "id": "choice-bottom",
   "metadata": {},
   "outputs": [
    {
     "data": {
      "text/plain": [
       "<seaborn.axisgrid.FacetGrid at 0x148d5dbebe0>"
      ]
     },
     "execution_count": 21,
     "metadata": {},
     "output_type": "execute_result"
    },
    {
     "data": {
      "image/png": "[encoded data removed]",
      "text/plain": [
       "<Figure size 360x360 with 1 Axes>"
      ]
     },
     "metadata": {
      "needs_background": "light"
     },
     "output_type": "display_data"
    }
   ],
   "source": [
    "sns.displot(df1, x = \"BOD_Y\", binwidth=2) # DATA IS HIGHLY IMBALANCED"
   ]
  },
  {
   "cell_type": "code",
   "execution_count": 22,
   "id": "specialized-fiber",
   "metadata": {},
   "outputs": [
    {
     "data": {
      "text/plain": [
       "<seaborn.axisgrid.FacetGrid at 0x148d5e08280>"
      ]
     },
     "execution_count": 22,
     "metadata": {},
     "output_type": "execute_result"
    },
    {
     "data": {
      "image/png": "[encoded data removed]",
      "text/plain": [
       "<Figure size 360x360 with 1 Axes>"
      ]
     },
     "metadata": {
      "needs_background": "light"
     },
     "output_type": "display_data"
    }
   ],
   "source": [
    "sns.displot(df2, x = \"NH3_Y\", binwidth=2) # DATA IS BALANCED"
   ]
  },
  {
   "cell_type": "code",
   "execution_count": 23,
   "id": "creative-kitty",
   "metadata": {},
   "outputs": [
    {
     "data": {
      "text/plain": [
       "<seaborn.axisgrid.FacetGrid at 0x148d5dadcd0>"
      ]
     },
     "execution_count": 23,
     "metadata": {},
     "output_type": "execute_result"
    },
    {
     "data": {
      "image/png": "[encoded data removed]",
      "text/plain": [
       "<Figure size 360x360 with 1 Axes>"
      ]
     },
     "metadata": {
      "needs_background": "light"
     },
     "output_type": "display_data"
    }
   ],
   "source": [
    "sns.displot(df3, x = \"TN_Y\", binwidth=2) # DATA IS HIGHLY IMBALANCED"
   ]
  },
  {
   "cell_type": "code",
   "execution_count": 170,
   "id": "dramatic-procedure",
   "metadata": {},
   "outputs": [],
   "source": [
    "class DataCleaner():\n",
    "    \n",
    "    def __init__(self, df, c):\n",
    "        self.df = df\n",
    "        global col\n",
    "        col = c\n",
    "        self.rem_dup()\n",
    "        self.rem_nan()\n",
    "        self.rem_low()\n",
    "    \n",
    "    def rem_dup(self):\n",
    "        x = self.df.drop(col, axis = 1, inplace = False)\n",
    "        y = pd.DataFrame(self.df[col])\n",
    "        self.x = x \n",
    "        self.y = y\n",
    "    def rem_nan(self):\n",
    "        ind = self.y[col].notna()\n",
    "        self.x = self.x[ind]*10\n",
    "        self.y = self.y[ind]*10\n",
    "    \n",
    "    def rem_low(self):\n",
    "        s=self.y[col].value_counts().gt(4)\n",
    "        ind = self.y[col].isin(s[s].index)\n",
    "        \n",
    "        self.x = self.x[ind]\n",
    "        self.y = self.y[ind]\n",
    "        self.x = self.x.fillna(0)\n",
    "        "
   ]
  },
  {
   "cell_type": "code",
   "execution_count": 171,
   "id": "furnished-recorder",
   "metadata": {},
   "outputs": [],
   "source": [
    "dc = DataCleaner(df1, 'BOD_Y')\n",
    "dc.y['BOD_Y'].value_counts()\n",
    "x = dc.x\n",
    "y = dc.y"
   ]
  },
  {
   "cell_type": "code",
   "execution_count": 172,
   "id": "blessed-opening",
   "metadata": {},
   "outputs": [],
   "source": [
    "xr, yr = SMOTE(k_neighbors=3).fit_resample(x, y)\n",
    "xr = xr/10\n",
    "yr = yr/10"
   ]
  },
  {
   "cell_type": "code",
   "execution_count": 173,
   "id": "prostate-glass",
   "metadata": {},
   "outputs": [
    {
     "data": {
      "text/plain": [
       "6.0    848\n",
       "5.0    848\n",
       "5.8    848\n",
       "5.4    848\n",
       "5.2    848\n",
       "6.2    848\n",
       "Name: BOD_Y, dtype: int64"
      ]
     },
     "execution_count": 173,
     "metadata": {},
     "output_type": "execute_result"
    }
   ],
   "source": [
    "yr['BOD_Y'].value_counts()"
   ]
  },
  {
   "cell_type": "code",
   "execution_count": 174,
   "id": "fifty-inflation",
   "metadata": {},
   "outputs": [
    {
     "data": {
      "text/html": [
       "<div>\n",
       "<style scoped>\n",
       "    .dataframe tbody tr th:only-of-type {\n",
       "        vertical-align: middle;\n",
       "    }\n",
       "\n",
       "    .dataframe tbody tr th {\n",
       "        vertical-align: top;\n",
       "    }\n",
       "\n",
       "    .dataframe thead th {\n",
       "        text-align: right;\n",
       "    }\n",
       "</style>\n",
       "<table border=\"1\" class=\"dataframe\">\n",
       "  <thead>\n",
       "    <tr style=\"text-align: right;\">\n",
       "      <th></th>\n",
       "      <th>BOD_Y</th>\n",
       "    </tr>\n",
       "  </thead>\n",
       "  <tbody>\n",
       "    <tr>\n",
       "      <th>0</th>\n",
       "      <td>5.0</td>\n",
       "    </tr>\n",
       "    <tr>\n",
       "      <th>1</th>\n",
       "      <td>5.0</td>\n",
       "    </tr>\n",
       "    <tr>\n",
       "      <th>2</th>\n",
       "      <td>5.0</td>\n",
       "    </tr>\n",
       "    <tr>\n",
       "      <th>3</th>\n",
       "      <td>5.0</td>\n",
       "    </tr>\n",
       "    <tr>\n",
       "      <th>4</th>\n",
       "      <td>5.0</td>\n",
       "    </tr>\n",
       "    <tr>\n",
       "      <th>...</th>\n",
       "      <td>...</td>\n",
       "    </tr>\n",
       "    <tr>\n",
       "      <th>5083</th>\n",
       "      <td>6.2</td>\n",
       "    </tr>\n",
       "    <tr>\n",
       "      <th>5084</th>\n",
       "      <td>6.2</td>\n",
       "    </tr>\n",
       "    <tr>\n",
       "      <th>5085</th>\n",
       "      <td>6.2</td>\n",
       "    </tr>\n",
       "    <tr>\n",
       "      <th>5086</th>\n",
       "      <td>6.2</td>\n",
       "    </tr>\n",
       "    <tr>\n",
       "      <th>5087</th>\n",
       "      <td>6.2</td>\n",
       "    </tr>\n",
       "  </tbody>\n",
       "</table>\n",
       "<p>5088 rows × 1 columns</p>\n",
       "</div>"
      ],
      "text/plain": [
       "      BOD_Y\n",
       "0       5.0\n",
       "1       5.0\n",
       "2       5.0\n",
       "3       5.0\n",
       "4       5.0\n",
       "...     ...\n",
       "5083    6.2\n",
       "5084    6.2\n",
       "5085    6.2\n",
       "5086    6.2\n",
       "5087    6.2\n",
       "\n",
       "[5088 rows x 1 columns]"
      ]
     },
     "execution_count": 174,
     "metadata": {},
     "output_type": "execute_result"
    }
   ],
   "source": [
    "yr"
   ]
  },
  {
   "cell_type": "code",
   "execution_count": 175,
   "id": "retired-external",
   "metadata": {},
   "outputs": [
    {
     "data": {
      "text/plain": [
       "<seaborn.axisgrid.FacetGrid at 0x148e0c5c610>"
      ]
     },
     "execution_count": 175,
     "metadata": {},
     "output_type": "execute_result"
    },
    {
     "data": {
      "image/png": "[encoded data removed]",
      "text/plain": [
       "<Figure size 360x360 with 1 Axes>"
      ]
     },
     "metadata": {
      "needs_background": "light"
     },
     "output_type": "display_data"
    }
   ],
   "source": [
    "sns.displot(yr, x = \"BOD_Y\", binwidth=0.5)"
   ]
  },
  {
   "cell_type": "code",
   "execution_count": 176,
   "id": "sixth-bachelor",
   "metadata": {},
   "outputs": [
    {
     "data": {
      "image/png": "[encoded data removed]",
      "text/plain": [
       "<Figure size 360x360 with 1 Axes>"
      ]
     },
     "metadata": {
      "needs_background": "light"
     },
     "output_type": "display_data"
    }
   ],
   "source": [
    "tdf = pd.concat([xr, yr], axis = 1)\n",
    "sns.relplot(data = tdf, y = 'BOD_Y', x = tdf.index)\n",
    "plt.show()"
   ]
  },
  {
   "cell_type": "code",
   "execution_count": 177,
   "id": "stone-clarity",
   "metadata": {},
   "outputs": [
    {
     "data": {
      "text/plain": [
       "6.0    848\n",
       "5.0    848\n",
       "5.8    848\n",
       "5.4    848\n",
       "5.2    848\n",
       "6.2    848\n",
       "Name: BOD_Y, dtype: int64"
      ]
     },
     "execution_count": 177,
     "metadata": {},
     "output_type": "execute_result"
    }
   ],
   "source": [
    "tdf['BOD_Y'].value_counts()"
   ]
  },
  {
   "cell_type": "code",
   "execution_count": 103,
   "id": "automotive-acting",
   "metadata": {},
   "outputs": [],
   "source": [
    "from sklearn import svm\n",
    "from sklearn.ensemble import RandomForestRegressor\n",
    "from sklearn.metrics import mean_squared_error as loss\n",
    "from sklearn import preprocessing\n",
    "from sklearn.model_selection import train_test_split\n",
    "from sklearn.metrics import accuracy_score"
   ]
  },
  {
   "cell_type": "code",
   "execution_count": 111,
   "id": "loving-minister",
   "metadata": {},
   "outputs": [],
   "source": [
    "def tell(x,y, ch = 'rf'):\n",
    "    print(ch)\n",
    "    if ch == 'xg':\n",
    "        clf = xg.XGBRegressor()\n",
    "    elif ch == 'rf':\n",
    "        clf = RandomForestRegressor()\n",
    "    x_train, x_test, y_train, y_test = train_test_split(x, y)\n",
    "    clf.fit(x_train, y_train)\n",
    "    y_pred_te = clf.predict(x_test)\n",
    "    print(loss(y_pred_te, y_test), 'test')\n",
    "    y_pred_tr = clf.predict(x_train)\n",
    "    print(loss(y_pred_tr, y_train), 'train')\n",
    "    return y_pred_tr, y_pred_te"
   ]
  },
  {
   "cell_type": "code",
   "execution_count": 159,
   "id": "second-convenience",
   "metadata": {},
   "outputs": [
    {
     "name": "stdout",
     "output_type": "stream",
     "text": [
      "rf\n",
      "0.048924108597285104 test\n",
      "0.0034795113122171877 train\n"
     ]
    },
    {
     "name": "stderr",
     "output_type": "stream",
     "text": [
      "<ipython-input-111-b2385d31a66d>:8: DataConversionWarning: A column-vector y was passed when a 1d array was expected. Please change the shape of y to (n_samples,), for example using ravel().\n",
      "  clf.fit(x_train, y_train)\n"
     ]
    }
   ],
   "source": [
    "y_tr, y_te = tell(tx, ty, 'rf')"
   ]
  },
  {
   "cell_type": "code",
   "execution_count": 160,
   "id": "protective-burlington",
   "metadata": {},
   "outputs": [
    {
     "name": "stdout",
     "output_type": "stream",
     "text": [
      "xg\n",
      "0.015381641833581832 test\n",
      "0.0010398524139438984 train\n"
     ]
    }
   ],
   "source": [
    "y_tr, y_te = tell(xr,yr, 'xg')"
   ]
  },
  {
   "cell_type": "code",
   "execution_count": 161,
   "id": "surgical-actress",
   "metadata": {},
   "outputs": [],
   "source": [
    "x_train, x_test, y_train, y_test = train_test_split(xr, yr)\n",
    "clf = xg.XGBRegressor()\n",
    "clf.fit(x_train, y_train)\n",
    "\n",
    "p_train = clf.predict(x_train)\n",
    "p_test = clf.predict(x_test)\n",
    "ind = p_test<5\n",
    "p_test[ind] = 5\n",
    "ind = p_train<5\n",
    "p_train[ind] = 5"
   ]
  },
  {
   "cell_type": "code",
   "execution_count": 164,
   "id": "chemical-watch",
   "metadata": {},
   "outputs": [
    {
     "data": {
      "text/plain": [
       "<seaborn.axisgrid.FacetGrid at 0x148e0f1ddc0>"
      ]
     },
     "execution_count": 164,
     "metadata": {},
     "output_type": "execute_result"
    },
    {
     "data": {
      "image/png": "[encoded data removed]",
      "text/plain": [
       "<Figure size 429.25x360 with 1 Axes>"
      ]
     },
     "metadata": {
      "needs_background": "light"
     },
     "output_type": "display_data"
    }
   ],
   "source": [
    "sns.displot(y_train, binwidth=0.3) # ORIGINAL TEST DATA"
   ]
  },
  {
   "cell_type": "code",
   "execution_count": 165,
   "id": "regional-monster",
   "metadata": {},
   "outputs": [
    {
     "data": {
      "text/plain": [
       "<seaborn.axisgrid.FacetGrid at 0x148e0ffb730>"
      ]
     },
     "execution_count": 165,
     "metadata": {},
     "output_type": "execute_result"
    },
    {
     "data": {
      "image/png": "[encoded data removed]",
      "text/plain": [
       "<Figure size 360x360 with 1 Axes>"
      ]
     },
     "metadata": {
      "needs_background": "light"
     },
     "output_type": "display_data"
    }
   ],
   "source": [
    "sns.displot(p_train, binwidth=0.3) # PREDICTED TEST DATA"
   ]
  },
  {
   "cell_type": "code",
   "execution_count": null,
   "id": "downtown-wildlife",
   "metadata": {},
   "outputs": [],
   "source": []
  }
 ],
 "metadata": {
  "kernelspec": {
   "display_name": "Python 3",
   "language": "python",
   "name": "python3"
  },
  "language_info": {
   "codemirror_mode": {
    "name": "ipython",
    "version": 3
   },
   "file_extension": ".py",
   "mimetype": "text/x-python",
   "name": "python",
   "nbconvert_exporter": "python",
   "pygments_lexer": "ipython3",
   "version": "3.8.6"
  }
 },
 "nbformat": 4,
 "nbformat_minor": 5
}
