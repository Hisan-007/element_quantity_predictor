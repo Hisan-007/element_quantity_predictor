{
 "cells": [
  {
   "cell_type": "markdown",
   "id": "featured-visitor",
   "metadata": {},
   "source": [
    "# IMPORTS"
   ]
  },
  {
   "cell_type": "code",
   "execution_count": 307,
   "id": "demographic-football",
   "metadata": {},
   "outputs": [],
   "source": [
    "import pandas as pd\n",
    "import numpy as np\n",
    "import seaborn as sns\n",
    "from matplotlib import pyplot as plt\n",
    "from imblearn.over_sampling import SMOTE\n",
    "import xgboost as xg\n",
    "path = \"Dataset.xlsx\"\n",
    "%matplotlib inline\n",
    "sns.set()\n",
    "plt.rcParams[\"axes.labelsize\"] = 15"
   ]
  },
  {
   "cell_type": "code",
   "execution_count": 2,
   "id": "prescribed-instrumentation",
   "metadata": {},
   "outputs": [],
   "source": [
    "file = pd.ExcelFile(path)\n",
    "\n",
    "dfs = {sheet_name: file.parse(sheet_name) \n",
    "          for sheet_name in file.sheet_names}"
   ]
  },
  {
   "cell_type": "code",
   "execution_count": 3,
   "id": "floral-layer",
   "metadata": {},
   "outputs": [
    {
     "data": {
      "text/plain": [
       "dict_keys(['Material_Data_Dict', 'Comp_Data_Dict', 'CS', 'SS(Ave)', 'SS1', 'SS2', 'FE', 'AT1', 'AT2', 'AT3', 'AT4', 'AT5', 'AT(Ave)'])"
      ]
     },
     "execution_count": 3,
     "metadata": {},
     "output_type": "execute_result"
    }
   ],
   "source": [
    "dfs.keys()"
   ]
  },
  {
   "cell_type": "code",
   "execution_count": 4,
   "id": "needed-thumb",
   "metadata": {},
   "outputs": [],
   "source": [
    "class DataCreator:\n",
    "    \n",
    "    def __init__(self, path):\n",
    "        file = pd.ExcelFile(path)\n",
    "        dfs = {sheet_name: file.parse(sheet_name) \n",
    "          for sheet_name in file.sheet_names}\n",
    "        self.dfs = dfs\n",
    "        colsa = ['BOD','NH3-N','PH','TN'] # ss avg columns\n",
    "        colsb = ['MLSS', 'AT_Temp'] # at avg columns\n",
    "        self.df = pd.concat([ dfs['SS(Ave)'][colsa] , dfs['AT(Ave)'][colsb] ], axis = 1)\n",
    "        self.odf = dfs['FE'][['BOD', \"NH3-N\", 'TN']]\n",
    "    \n",
    "    def get_bod(self):\n",
    "        dfs = self.dfs\n",
    "        self.bod = dfs['FE']['BOD']\n",
    "        self.bod = self.bod.rename('BOD_Y')\n",
    "        return self.bod\n",
    "        #display(self.bod)\n",
    "    def get_nh3(self):\n",
    "        dfs = self.dfs\n",
    "        self.nh3 = dfs['FE']['NH3-N']\n",
    "        self.nh3 = self.nh3.rename('NH3_Y')\n",
    "        return self.nh3\n",
    "        #display(self.nh3)\n",
    "    def get_tn(self):\n",
    "        dfs = self.dfs\n",
    "        self.tn = dfs['FE']['TN']\n",
    "        self.tn = self.bod.rename('TN_Y')\n",
    "        return self.tn\n",
    "        #display(self.tn)\n",
    "        \n",
    "    def first_df(self):\n",
    "        return pd.concat([self.df, self.get_bod()], axis = 1)\n",
    "    def second_df(self):\n",
    "        return pd.concat([self.df, self.get_nh3()], axis = 1)\n",
    "    def third_df(self):\n",
    "        return pd.concat([self.df, self.get_tn()], axis = 1)\n",
    "        "
   ]
  },
  {
   "cell_type": "code",
   "execution_count": 5,
   "id": "viral-strengthening",
   "metadata": {},
   "outputs": [
    {
     "data": {
      "text/html": [
       "<div>\n",
       "<style scoped>\n",
       "    .dataframe tbody tr th:only-of-type {\n",
       "        vertical-align: middle;\n",
       "    }\n",
       "\n",
       "    .dataframe tbody tr th {\n",
       "        vertical-align: top;\n",
       "    }\n",
       "\n",
       "    .dataframe thead th {\n",
       "        text-align: right;\n",
       "    }\n",
       "</style>\n",
       "<table border=\"1\" class=\"dataframe\">\n",
       "  <thead>\n",
       "    <tr style=\"text-align: right;\">\n",
       "      <th></th>\n",
       "      <th>BOD</th>\n",
       "      <th>NH3-N</th>\n",
       "      <th>PH</th>\n",
       "      <th>TN</th>\n",
       "      <th>MLSS</th>\n",
       "      <th>AT_Temp</th>\n",
       "    </tr>\n",
       "  </thead>\n",
       "  <tbody>\n",
       "    <tr>\n",
       "      <th>0</th>\n",
       "      <td>NaN</td>\n",
       "      <td>25.0</td>\n",
       "      <td>7.4</td>\n",
       "      <td>NaN</td>\n",
       "      <td>NaN</td>\n",
       "      <td>21.350</td>\n",
       "    </tr>\n",
       "    <tr>\n",
       "      <th>1</th>\n",
       "      <td>NaN</td>\n",
       "      <td>NaN</td>\n",
       "      <td>NaN</td>\n",
       "      <td>NaN</td>\n",
       "      <td>2540.0</td>\n",
       "      <td>21.850</td>\n",
       "    </tr>\n",
       "    <tr>\n",
       "      <th>2</th>\n",
       "      <td>120.0</td>\n",
       "      <td>31.0</td>\n",
       "      <td>8.1</td>\n",
       "      <td>45.0</td>\n",
       "      <td>NaN</td>\n",
       "      <td>22.400</td>\n",
       "    </tr>\n",
       "    <tr>\n",
       "      <th>3</th>\n",
       "      <td>NaN</td>\n",
       "      <td>NaN</td>\n",
       "      <td>NaN</td>\n",
       "      <td>NaN</td>\n",
       "      <td>2230.0</td>\n",
       "      <td>21.975</td>\n",
       "    </tr>\n",
       "    <tr>\n",
       "      <th>4</th>\n",
       "      <td>NaN</td>\n",
       "      <td>NaN</td>\n",
       "      <td>NaN</td>\n",
       "      <td>NaN</td>\n",
       "      <td>NaN</td>\n",
       "      <td>21.100</td>\n",
       "    </tr>\n",
       "    <tr>\n",
       "      <th>...</th>\n",
       "      <td>...</td>\n",
       "      <td>...</td>\n",
       "      <td>...</td>\n",
       "      <td>...</td>\n",
       "      <td>...</td>\n",
       "      <td>...</td>\n",
       "    </tr>\n",
       "    <tr>\n",
       "      <th>2186</th>\n",
       "      <td>120.0</td>\n",
       "      <td>31.0</td>\n",
       "      <td>7.3</td>\n",
       "      <td>56.0</td>\n",
       "      <td>3430.0</td>\n",
       "      <td>23.150</td>\n",
       "    </tr>\n",
       "    <tr>\n",
       "      <th>2187</th>\n",
       "      <td>NaN</td>\n",
       "      <td>NaN</td>\n",
       "      <td>NaN</td>\n",
       "      <td>NaN</td>\n",
       "      <td>3330.0</td>\n",
       "      <td>21.925</td>\n",
       "    </tr>\n",
       "    <tr>\n",
       "      <th>2188</th>\n",
       "      <td>NaN</td>\n",
       "      <td>NaN</td>\n",
       "      <td>NaN</td>\n",
       "      <td>NaN</td>\n",
       "      <td>NaN</td>\n",
       "      <td>21.075</td>\n",
       "    </tr>\n",
       "    <tr>\n",
       "      <th>2189</th>\n",
       "      <td>NaN</td>\n",
       "      <td>29.0</td>\n",
       "      <td>7.2</td>\n",
       "      <td>NaN</td>\n",
       "      <td>NaN</td>\n",
       "      <td>20.700</td>\n",
       "    </tr>\n",
       "    <tr>\n",
       "      <th>2190</th>\n",
       "      <td>NaN</td>\n",
       "      <td>30.0</td>\n",
       "      <td>7.4</td>\n",
       "      <td>NaN</td>\n",
       "      <td>3290.0</td>\n",
       "      <td>20.700</td>\n",
       "    </tr>\n",
       "  </tbody>\n",
       "</table>\n",
       "<p>2191 rows × 6 columns</p>\n",
       "</div>"
      ],
      "text/plain": [
       "        BOD  NH3-N   PH    TN    MLSS  AT_Temp\n",
       "0       NaN   25.0  7.4   NaN     NaN   21.350\n",
       "1       NaN    NaN  NaN   NaN  2540.0   21.850\n",
       "2     120.0   31.0  8.1  45.0     NaN   22.400\n",
       "3       NaN    NaN  NaN   NaN  2230.0   21.975\n",
       "4       NaN    NaN  NaN   NaN     NaN   21.100\n",
       "...     ...    ...  ...   ...     ...      ...\n",
       "2186  120.0   31.0  7.3  56.0  3430.0   23.150\n",
       "2187    NaN    NaN  NaN   NaN  3330.0   21.925\n",
       "2188    NaN    NaN  NaN   NaN     NaN   21.075\n",
       "2189    NaN   29.0  7.2   NaN     NaN   20.700\n",
       "2190    NaN   30.0  7.4   NaN  3290.0   20.700\n",
       "\n",
       "[2191 rows x 6 columns]"
      ]
     },
     "execution_count": 5,
     "metadata": {},
     "output_type": "execute_result"
    }
   ],
   "source": [
    "dc = DataCreator(path)\n",
    "dc.df"
   ]
  },
  {
   "cell_type": "code",
   "execution_count": 6,
   "id": "narrative-father",
   "metadata": {},
   "outputs": [
    {
     "data": {
      "text/plain": [
       "0        True\n",
       "1       False\n",
       "2        True\n",
       "3       False\n",
       "4       False\n",
       "        ...  \n",
       "2186     True\n",
       "2187    False\n",
       "2188    False\n",
       "2189    False\n",
       "2190    False\n",
       "Name: BOD_Y, Length: 2191, dtype: bool"
      ]
     },
     "execution_count": 6,
     "metadata": {},
     "output_type": "execute_result"
    }
   ],
   "source": [
    "ind = dc.get_bod().notna()\n",
    "ind"
   ]
  },
  {
   "cell_type": "code",
   "execution_count": 7,
   "id": "express-trademark",
   "metadata": {},
   "outputs": [
    {
     "data": {
      "text/html": [
       "<div>\n",
       "<style scoped>\n",
       "    .dataframe tbody tr th:only-of-type {\n",
       "        vertical-align: middle;\n",
       "    }\n",
       "\n",
       "    .dataframe tbody tr th {\n",
       "        vertical-align: top;\n",
       "    }\n",
       "\n",
       "    .dataframe thead th {\n",
       "        text-align: right;\n",
       "    }\n",
       "</style>\n",
       "<table border=\"1\" class=\"dataframe\">\n",
       "  <thead>\n",
       "    <tr style=\"text-align: right;\">\n",
       "      <th></th>\n",
       "      <th>BOD</th>\n",
       "      <th>NH3-N</th>\n",
       "      <th>TN</th>\n",
       "    </tr>\n",
       "  </thead>\n",
       "  <tbody>\n",
       "    <tr>\n",
       "      <th>0</th>\n",
       "      <td>5.0</td>\n",
       "      <td>0.50</td>\n",
       "      <td>9.4</td>\n",
       "    </tr>\n",
       "    <tr>\n",
       "      <th>2</th>\n",
       "      <td>5.0</td>\n",
       "      <td>0.54</td>\n",
       "      <td>11.0</td>\n",
       "    </tr>\n",
       "    <tr>\n",
       "      <th>7</th>\n",
       "      <td>5.0</td>\n",
       "      <td>0.59</td>\n",
       "      <td>8.9</td>\n",
       "    </tr>\n",
       "    <tr>\n",
       "      <th>8</th>\n",
       "      <td>5.0</td>\n",
       "      <td>0.70</td>\n",
       "      <td>NaN</td>\n",
       "    </tr>\n",
       "    <tr>\n",
       "      <th>9</th>\n",
       "      <td>5.0</td>\n",
       "      <td>0.98</td>\n",
       "      <td>12.0</td>\n",
       "    </tr>\n",
       "    <tr>\n",
       "      <th>...</th>\n",
       "      <td>...</td>\n",
       "      <td>...</td>\n",
       "      <td>...</td>\n",
       "    </tr>\n",
       "    <tr>\n",
       "      <th>2178</th>\n",
       "      <td>5.0</td>\n",
       "      <td>0.50</td>\n",
       "      <td>NaN</td>\n",
       "    </tr>\n",
       "    <tr>\n",
       "      <th>2179</th>\n",
       "      <td>5.0</td>\n",
       "      <td>0.50</td>\n",
       "      <td>4.7</td>\n",
       "    </tr>\n",
       "    <tr>\n",
       "      <th>2184</th>\n",
       "      <td>5.0</td>\n",
       "      <td>0.50</td>\n",
       "      <td>3.9</td>\n",
       "    </tr>\n",
       "    <tr>\n",
       "      <th>2185</th>\n",
       "      <td>5.0</td>\n",
       "      <td>0.50</td>\n",
       "      <td>NaN</td>\n",
       "    </tr>\n",
       "    <tr>\n",
       "      <th>2186</th>\n",
       "      <td>5.0</td>\n",
       "      <td>0.50</td>\n",
       "      <td>3.8</td>\n",
       "    </tr>\n",
       "  </tbody>\n",
       "</table>\n",
       "<p>931 rows × 3 columns</p>\n",
       "</div>"
      ],
      "text/plain": [
       "      BOD  NH3-N    TN\n",
       "0     5.0   0.50   9.4\n",
       "2     5.0   0.54  11.0\n",
       "7     5.0   0.59   8.9\n",
       "8     5.0   0.70   NaN\n",
       "9     5.0   0.98  12.0\n",
       "...   ...    ...   ...\n",
       "2178  5.0   0.50   NaN\n",
       "2179  5.0   0.50   4.7\n",
       "2184  5.0   0.50   3.9\n",
       "2185  5.0   0.50   NaN\n",
       "2186  5.0   0.50   3.8\n",
       "\n",
       "[931 rows x 3 columns]"
      ]
     },
     "execution_count": 7,
     "metadata": {},
     "output_type": "execute_result"
    }
   ],
   "source": [
    "dc.odf[ind]"
   ]
  },
  {
   "cell_type": "code",
   "execution_count": 8,
   "id": "regulated-studio",
   "metadata": {},
   "outputs": [
    {
     "data": {
      "text/html": [
       "<div>\n",
       "<style scoped>\n",
       "    .dataframe tbody tr th:only-of-type {\n",
       "        vertical-align: middle;\n",
       "    }\n",
       "\n",
       "    .dataframe tbody tr th {\n",
       "        vertical-align: top;\n",
       "    }\n",
       "\n",
       "    .dataframe thead th {\n",
       "        text-align: right;\n",
       "    }\n",
       "</style>\n",
       "<table border=\"1\" class=\"dataframe\">\n",
       "  <thead>\n",
       "    <tr style=\"text-align: right;\">\n",
       "      <th></th>\n",
       "      <th>BOD</th>\n",
       "      <th>NH3-N</th>\n",
       "      <th>PH</th>\n",
       "      <th>TN</th>\n",
       "      <th>MLSS</th>\n",
       "      <th>AT_Temp</th>\n",
       "      <th>BOD_Y</th>\n",
       "    </tr>\n",
       "  </thead>\n",
       "  <tbody>\n",
       "    <tr>\n",
       "      <th>0</th>\n",
       "      <td>NaN</td>\n",
       "      <td>25.0</td>\n",
       "      <td>7.4</td>\n",
       "      <td>NaN</td>\n",
       "      <td>NaN</td>\n",
       "      <td>21.350</td>\n",
       "      <td>5.0</td>\n",
       "    </tr>\n",
       "    <tr>\n",
       "      <th>1</th>\n",
       "      <td>NaN</td>\n",
       "      <td>NaN</td>\n",
       "      <td>NaN</td>\n",
       "      <td>NaN</td>\n",
       "      <td>2540.0</td>\n",
       "      <td>21.850</td>\n",
       "      <td>NaN</td>\n",
       "    </tr>\n",
       "    <tr>\n",
       "      <th>2</th>\n",
       "      <td>120.0</td>\n",
       "      <td>31.0</td>\n",
       "      <td>8.1</td>\n",
       "      <td>45.0</td>\n",
       "      <td>NaN</td>\n",
       "      <td>22.400</td>\n",
       "      <td>5.0</td>\n",
       "    </tr>\n",
       "    <tr>\n",
       "      <th>3</th>\n",
       "      <td>NaN</td>\n",
       "      <td>NaN</td>\n",
       "      <td>NaN</td>\n",
       "      <td>NaN</td>\n",
       "      <td>2230.0</td>\n",
       "      <td>21.975</td>\n",
       "      <td>NaN</td>\n",
       "    </tr>\n",
       "    <tr>\n",
       "      <th>4</th>\n",
       "      <td>NaN</td>\n",
       "      <td>NaN</td>\n",
       "      <td>NaN</td>\n",
       "      <td>NaN</td>\n",
       "      <td>NaN</td>\n",
       "      <td>21.100</td>\n",
       "      <td>NaN</td>\n",
       "    </tr>\n",
       "    <tr>\n",
       "      <th>...</th>\n",
       "      <td>...</td>\n",
       "      <td>...</td>\n",
       "      <td>...</td>\n",
       "      <td>...</td>\n",
       "      <td>...</td>\n",
       "      <td>...</td>\n",
       "      <td>...</td>\n",
       "    </tr>\n",
       "    <tr>\n",
       "      <th>2186</th>\n",
       "      <td>120.0</td>\n",
       "      <td>31.0</td>\n",
       "      <td>7.3</td>\n",
       "      <td>56.0</td>\n",
       "      <td>3430.0</td>\n",
       "      <td>23.150</td>\n",
       "      <td>5.0</td>\n",
       "    </tr>\n",
       "    <tr>\n",
       "      <th>2187</th>\n",
       "      <td>NaN</td>\n",
       "      <td>NaN</td>\n",
       "      <td>NaN</td>\n",
       "      <td>NaN</td>\n",
       "      <td>3330.0</td>\n",
       "      <td>21.925</td>\n",
       "      <td>NaN</td>\n",
       "    </tr>\n",
       "    <tr>\n",
       "      <th>2188</th>\n",
       "      <td>NaN</td>\n",
       "      <td>NaN</td>\n",
       "      <td>NaN</td>\n",
       "      <td>NaN</td>\n",
       "      <td>NaN</td>\n",
       "      <td>21.075</td>\n",
       "      <td>NaN</td>\n",
       "    </tr>\n",
       "    <tr>\n",
       "      <th>2189</th>\n",
       "      <td>NaN</td>\n",
       "      <td>29.0</td>\n",
       "      <td>7.2</td>\n",
       "      <td>NaN</td>\n",
       "      <td>NaN</td>\n",
       "      <td>20.700</td>\n",
       "      <td>NaN</td>\n",
       "    </tr>\n",
       "    <tr>\n",
       "      <th>2190</th>\n",
       "      <td>NaN</td>\n",
       "      <td>30.0</td>\n",
       "      <td>7.4</td>\n",
       "      <td>NaN</td>\n",
       "      <td>3290.0</td>\n",
       "      <td>20.700</td>\n",
       "      <td>NaN</td>\n",
       "    </tr>\n",
       "  </tbody>\n",
       "</table>\n",
       "<p>2191 rows × 7 columns</p>\n",
       "</div>"
      ],
      "text/plain": [
       "        BOD  NH3-N   PH    TN    MLSS  AT_Temp  BOD_Y\n",
       "0       NaN   25.0  7.4   NaN     NaN   21.350    5.0\n",
       "1       NaN    NaN  NaN   NaN  2540.0   21.850    NaN\n",
       "2     120.0   31.0  8.1  45.0     NaN   22.400    5.0\n",
       "3       NaN    NaN  NaN   NaN  2230.0   21.975    NaN\n",
       "4       NaN    NaN  NaN   NaN     NaN   21.100    NaN\n",
       "...     ...    ...  ...   ...     ...      ...    ...\n",
       "2186  120.0   31.0  7.3  56.0  3430.0   23.150    5.0\n",
       "2187    NaN    NaN  NaN   NaN  3330.0   21.925    NaN\n",
       "2188    NaN    NaN  NaN   NaN     NaN   21.075    NaN\n",
       "2189    NaN   29.0  7.2   NaN     NaN   20.700    NaN\n",
       "2190    NaN   30.0  7.4   NaN  3290.0   20.700    NaN\n",
       "\n",
       "[2191 rows x 7 columns]"
      ]
     },
     "metadata": {},
     "output_type": "display_data"
    },
    {
     "data": {
      "text/html": [
       "<div>\n",
       "<style scoped>\n",
       "    .dataframe tbody tr th:only-of-type {\n",
       "        vertical-align: middle;\n",
       "    }\n",
       "\n",
       "    .dataframe tbody tr th {\n",
       "        vertical-align: top;\n",
       "    }\n",
       "\n",
       "    .dataframe thead th {\n",
       "        text-align: right;\n",
       "    }\n",
       "</style>\n",
       "<table border=\"1\" class=\"dataframe\">\n",
       "  <thead>\n",
       "    <tr style=\"text-align: right;\">\n",
       "      <th></th>\n",
       "      <th>BOD</th>\n",
       "      <th>NH3-N</th>\n",
       "      <th>PH</th>\n",
       "      <th>TN</th>\n",
       "      <th>MLSS</th>\n",
       "      <th>AT_Temp</th>\n",
       "      <th>NH3_Y</th>\n",
       "    </tr>\n",
       "  </thead>\n",
       "  <tbody>\n",
       "    <tr>\n",
       "      <th>0</th>\n",
       "      <td>NaN</td>\n",
       "      <td>25.0</td>\n",
       "      <td>7.4</td>\n",
       "      <td>NaN</td>\n",
       "      <td>NaN</td>\n",
       "      <td>21.350</td>\n",
       "      <td>0.50</td>\n",
       "    </tr>\n",
       "    <tr>\n",
       "      <th>1</th>\n",
       "      <td>NaN</td>\n",
       "      <td>NaN</td>\n",
       "      <td>NaN</td>\n",
       "      <td>NaN</td>\n",
       "      <td>2540.0</td>\n",
       "      <td>21.850</td>\n",
       "      <td>NaN</td>\n",
       "    </tr>\n",
       "    <tr>\n",
       "      <th>2</th>\n",
       "      <td>120.0</td>\n",
       "      <td>31.0</td>\n",
       "      <td>8.1</td>\n",
       "      <td>45.0</td>\n",
       "      <td>NaN</td>\n",
       "      <td>22.400</td>\n",
       "      <td>0.54</td>\n",
       "    </tr>\n",
       "    <tr>\n",
       "      <th>3</th>\n",
       "      <td>NaN</td>\n",
       "      <td>NaN</td>\n",
       "      <td>NaN</td>\n",
       "      <td>NaN</td>\n",
       "      <td>2230.0</td>\n",
       "      <td>21.975</td>\n",
       "      <td>NaN</td>\n",
       "    </tr>\n",
       "    <tr>\n",
       "      <th>4</th>\n",
       "      <td>NaN</td>\n",
       "      <td>NaN</td>\n",
       "      <td>NaN</td>\n",
       "      <td>NaN</td>\n",
       "      <td>NaN</td>\n",
       "      <td>21.100</td>\n",
       "      <td>NaN</td>\n",
       "    </tr>\n",
       "    <tr>\n",
       "      <th>...</th>\n",
       "      <td>...</td>\n",
       "      <td>...</td>\n",
       "      <td>...</td>\n",
       "      <td>...</td>\n",
       "      <td>...</td>\n",
       "      <td>...</td>\n",
       "      <td>...</td>\n",
       "    </tr>\n",
       "    <tr>\n",
       "      <th>2186</th>\n",
       "      <td>120.0</td>\n",
       "      <td>31.0</td>\n",
       "      <td>7.3</td>\n",
       "      <td>56.0</td>\n",
       "      <td>3430.0</td>\n",
       "      <td>23.150</td>\n",
       "      <td>0.50</td>\n",
       "    </tr>\n",
       "    <tr>\n",
       "      <th>2187</th>\n",
       "      <td>NaN</td>\n",
       "      <td>NaN</td>\n",
       "      <td>NaN</td>\n",
       "      <td>NaN</td>\n",
       "      <td>3330.0</td>\n",
       "      <td>21.925</td>\n",
       "      <td>NaN</td>\n",
       "    </tr>\n",
       "    <tr>\n",
       "      <th>2188</th>\n",
       "      <td>NaN</td>\n",
       "      <td>NaN</td>\n",
       "      <td>NaN</td>\n",
       "      <td>NaN</td>\n",
       "      <td>NaN</td>\n",
       "      <td>21.075</td>\n",
       "      <td>NaN</td>\n",
       "    </tr>\n",
       "    <tr>\n",
       "      <th>2189</th>\n",
       "      <td>NaN</td>\n",
       "      <td>29.0</td>\n",
       "      <td>7.2</td>\n",
       "      <td>NaN</td>\n",
       "      <td>NaN</td>\n",
       "      <td>20.700</td>\n",
       "      <td>0.50</td>\n",
       "    </tr>\n",
       "    <tr>\n",
       "      <th>2190</th>\n",
       "      <td>NaN</td>\n",
       "      <td>30.0</td>\n",
       "      <td>7.4</td>\n",
       "      <td>NaN</td>\n",
       "      <td>3290.0</td>\n",
       "      <td>20.700</td>\n",
       "      <td>0.50</td>\n",
       "    </tr>\n",
       "  </tbody>\n",
       "</table>\n",
       "<p>2191 rows × 7 columns</p>\n",
       "</div>"
      ],
      "text/plain": [
       "        BOD  NH3-N   PH    TN    MLSS  AT_Temp  NH3_Y\n",
       "0       NaN   25.0  7.4   NaN     NaN   21.350   0.50\n",
       "1       NaN    NaN  NaN   NaN  2540.0   21.850    NaN\n",
       "2     120.0   31.0  8.1  45.0     NaN   22.400   0.54\n",
       "3       NaN    NaN  NaN   NaN  2230.0   21.975    NaN\n",
       "4       NaN    NaN  NaN   NaN     NaN   21.100    NaN\n",
       "...     ...    ...  ...   ...     ...      ...    ...\n",
       "2186  120.0   31.0  7.3  56.0  3430.0   23.150   0.50\n",
       "2187    NaN    NaN  NaN   NaN  3330.0   21.925    NaN\n",
       "2188    NaN    NaN  NaN   NaN     NaN   21.075    NaN\n",
       "2189    NaN   29.0  7.2   NaN     NaN   20.700   0.50\n",
       "2190    NaN   30.0  7.4   NaN  3290.0   20.700   0.50\n",
       "\n",
       "[2191 rows x 7 columns]"
      ]
     },
     "metadata": {},
     "output_type": "display_data"
    },
    {
     "data": {
      "text/html": [
       "<div>\n",
       "<style scoped>\n",
       "    .dataframe tbody tr th:only-of-type {\n",
       "        vertical-align: middle;\n",
       "    }\n",
       "\n",
       "    .dataframe tbody tr th {\n",
       "        vertical-align: top;\n",
       "    }\n",
       "\n",
       "    .dataframe thead th {\n",
       "        text-align: right;\n",
       "    }\n",
       "</style>\n",
       "<table border=\"1\" class=\"dataframe\">\n",
       "  <thead>\n",
       "    <tr style=\"text-align: right;\">\n",
       "      <th></th>\n",
       "      <th>BOD</th>\n",
       "      <th>NH3-N</th>\n",
       "      <th>PH</th>\n",
       "      <th>TN</th>\n",
       "      <th>MLSS</th>\n",
       "      <th>AT_Temp</th>\n",
       "      <th>TN_Y</th>\n",
       "    </tr>\n",
       "  </thead>\n",
       "  <tbody>\n",
       "    <tr>\n",
       "      <th>0</th>\n",
       "      <td>NaN</td>\n",
       "      <td>25.0</td>\n",
       "      <td>7.4</td>\n",
       "      <td>NaN</td>\n",
       "      <td>NaN</td>\n",
       "      <td>21.350</td>\n",
       "      <td>5.0</td>\n",
       "    </tr>\n",
       "    <tr>\n",
       "      <th>1</th>\n",
       "      <td>NaN</td>\n",
       "      <td>NaN</td>\n",
       "      <td>NaN</td>\n",
       "      <td>NaN</td>\n",
       "      <td>2540.0</td>\n",
       "      <td>21.850</td>\n",
       "      <td>NaN</td>\n",
       "    </tr>\n",
       "    <tr>\n",
       "      <th>2</th>\n",
       "      <td>120.0</td>\n",
       "      <td>31.0</td>\n",
       "      <td>8.1</td>\n",
       "      <td>45.0</td>\n",
       "      <td>NaN</td>\n",
       "      <td>22.400</td>\n",
       "      <td>5.0</td>\n",
       "    </tr>\n",
       "    <tr>\n",
       "      <th>3</th>\n",
       "      <td>NaN</td>\n",
       "      <td>NaN</td>\n",
       "      <td>NaN</td>\n",
       "      <td>NaN</td>\n",
       "      <td>2230.0</td>\n",
       "      <td>21.975</td>\n",
       "      <td>NaN</td>\n",
       "    </tr>\n",
       "    <tr>\n",
       "      <th>4</th>\n",
       "      <td>NaN</td>\n",
       "      <td>NaN</td>\n",
       "      <td>NaN</td>\n",
       "      <td>NaN</td>\n",
       "      <td>NaN</td>\n",
       "      <td>21.100</td>\n",
       "      <td>NaN</td>\n",
       "    </tr>\n",
       "    <tr>\n",
       "      <th>...</th>\n",
       "      <td>...</td>\n",
       "      <td>...</td>\n",
       "      <td>...</td>\n",
       "      <td>...</td>\n",
       "      <td>...</td>\n",
       "      <td>...</td>\n",
       "      <td>...</td>\n",
       "    </tr>\n",
       "    <tr>\n",
       "      <th>2186</th>\n",
       "      <td>120.0</td>\n",
       "      <td>31.0</td>\n",
       "      <td>7.3</td>\n",
       "      <td>56.0</td>\n",
       "      <td>3430.0</td>\n",
       "      <td>23.150</td>\n",
       "      <td>5.0</td>\n",
       "    </tr>\n",
       "    <tr>\n",
       "      <th>2187</th>\n",
       "      <td>NaN</td>\n",
       "      <td>NaN</td>\n",
       "      <td>NaN</td>\n",
       "      <td>NaN</td>\n",
       "      <td>3330.0</td>\n",
       "      <td>21.925</td>\n",
       "      <td>NaN</td>\n",
       "    </tr>\n",
       "    <tr>\n",
       "      <th>2188</th>\n",
       "      <td>NaN</td>\n",
       "      <td>NaN</td>\n",
       "      <td>NaN</td>\n",
       "      <td>NaN</td>\n",
       "      <td>NaN</td>\n",
       "      <td>21.075</td>\n",
       "      <td>NaN</td>\n",
       "    </tr>\n",
       "    <tr>\n",
       "      <th>2189</th>\n",
       "      <td>NaN</td>\n",
       "      <td>29.0</td>\n",
       "      <td>7.2</td>\n",
       "      <td>NaN</td>\n",
       "      <td>NaN</td>\n",
       "      <td>20.700</td>\n",
       "      <td>NaN</td>\n",
       "    </tr>\n",
       "    <tr>\n",
       "      <th>2190</th>\n",
       "      <td>NaN</td>\n",
       "      <td>30.0</td>\n",
       "      <td>7.4</td>\n",
       "      <td>NaN</td>\n",
       "      <td>3290.0</td>\n",
       "      <td>20.700</td>\n",
       "      <td>NaN</td>\n",
       "    </tr>\n",
       "  </tbody>\n",
       "</table>\n",
       "<p>2191 rows × 7 columns</p>\n",
       "</div>"
      ],
      "text/plain": [
       "        BOD  NH3-N   PH    TN    MLSS  AT_Temp  TN_Y\n",
       "0       NaN   25.0  7.4   NaN     NaN   21.350   5.0\n",
       "1       NaN    NaN  NaN   NaN  2540.0   21.850   NaN\n",
       "2     120.0   31.0  8.1  45.0     NaN   22.400   5.0\n",
       "3       NaN    NaN  NaN   NaN  2230.0   21.975   NaN\n",
       "4       NaN    NaN  NaN   NaN     NaN   21.100   NaN\n",
       "...     ...    ...  ...   ...     ...      ...   ...\n",
       "2186  120.0   31.0  7.3  56.0  3430.0   23.150   5.0\n",
       "2187    NaN    NaN  NaN   NaN  3330.0   21.925   NaN\n",
       "2188    NaN    NaN  NaN   NaN     NaN   21.075   NaN\n",
       "2189    NaN   29.0  7.2   NaN     NaN   20.700   NaN\n",
       "2190    NaN   30.0  7.4   NaN  3290.0   20.700   NaN\n",
       "\n",
       "[2191 rows x 7 columns]"
      ]
     },
     "metadata": {},
     "output_type": "display_data"
    }
   ],
   "source": [
    "df1 = dc.first_df()\n",
    "df2 = dc.second_df()\n",
    "df3 = dc.third_df()\n",
    "display(df1)\n",
    "display(df2)\n",
    "display(df3)"
   ]
  },
  {
   "cell_type": "code",
   "execution_count": 9,
   "id": "immune-score",
   "metadata": {},
   "outputs": [
    {
     "data": {
      "text/plain": [
       "Index(['BOD', 'NH3-N', 'PH', 'TN', 'MLSS', 'AT_Temp', 'BOD_Y'], dtype='object')"
      ]
     },
     "execution_count": 9,
     "metadata": {},
     "output_type": "execute_result"
    }
   ],
   "source": [
    "df1.columns"
   ]
  },
  {
   "cell_type": "code",
   "execution_count": 10,
   "id": "concerned-schema",
   "metadata": {},
   "outputs": [
    {
     "data": {
      "text/plain": [
       "<AxesSubplot:>"
      ]
     },
     "execution_count": 10,
     "metadata": {},
     "output_type": "execute_result"
    },
    {
     "data": {
      "image/png": "[encoded data removed]",
      "text/plain": [
       "<Figure size 432x288 with 1 Axes>"
      ]
     },
     "metadata": {
      "needs_background": "light"
     },
     "output_type": "display_data"
    }
   ],
   "source": [
    "sns.lineplot(data = dc.first_df())"
   ]
  },
  {
   "cell_type": "code",
   "execution_count": 11,
   "id": "instructional-astrology",
   "metadata": {},
   "outputs": [
    {
     "data": {
      "image/png": "[encoded data removed]",
      "text/plain": [
       "<Figure size 432x288 with 1 Axes>"
      ]
     },
     "metadata": {
      "needs_background": "light"
     },
     "output_type": "display_data"
    }
   ],
   "source": [
    "#plt.plot(df1.index, df1['BOD_Y'])\n",
    "plt.scatter(df1.index, df1['BOD_Y'], s = 3, color = 'orange')\n",
    "plt.show()"
   ]
  },
  {
   "cell_type": "code",
   "execution_count": 21,
   "id": "vocational-civilization",
   "metadata": {},
   "outputs": [
    {
     "data": {
      "text/plain": [
       "<seaborn.axisgrid.FacetGrid at 0x148d5dbebe0>"
      ]
     },
     "execution_count": 21,
     "metadata": {},
     "output_type": "execute_result"
    },
    {
     "data": {
      "image/png": "[encoded data removed]",
      "text/plain": [
       "<Figure size 360x360 with 1 Axes>"
      ]
     },
     "metadata": {
      "needs_background": "light"
     },
     "output_type": "display_data"
    }
   ],
   "source": [
    "sns.displot(df1, x = \"BOD_Y\", binwidth=2) # DATA IS HIGHLY IMBALANCED"
   ]
  },
  {
   "cell_type": "code",
   "execution_count": 22,
   "id": "legitimate-vancouver",
   "metadata": {},
   "outputs": [
    {
     "data": {
      "text/plain": [
       "<seaborn.axisgrid.FacetGrid at 0x148d5e08280>"
      ]
     },
     "execution_count": 22,
     "metadata": {},
     "output_type": "execute_result"
    },
    {
     "data": {
      "image/png": "[encoded data removed]",
      "text/plain": [
       "<Figure size 360x360 with 1 Axes>"
      ]
     },
     "metadata": {
      "needs_background": "light"
     },
     "output_type": "display_data"
    }
   ],
   "source": [
    "sns.displot(df2, x = \"NH3_Y\", binwidth=2) # DATA IS BALANCED"
   ]
  },
  {
   "cell_type": "code",
   "execution_count": 23,
   "id": "continued-buyer",
   "metadata": {},
   "outputs": [
    {
     "data": {
      "text/plain": [
       "<seaborn.axisgrid.FacetGrid at 0x148d5dadcd0>"
      ]
     },
     "execution_count": 23,
     "metadata": {},
     "output_type": "execute_result"
    },
    {
     "data": {
      "image/png": "[encoded data removed]",
      "text/plain": [
       "<Figure size 360x360 with 1 Axes>"
      ]
     },
     "metadata": {
      "needs_background": "light"
     },
     "output_type": "display_data"
    }
   ],
   "source": [
    "sns.displot(df3, x = \"TN_Y\", binwidth=2) # DATA IS HIGHLY IMBALANCED"
   ]
  },
  {
   "cell_type": "markdown",
   "id": "matched-canyon",
   "metadata": {},
   "source": [
    "# DATA CLEANER TO MAKE THE DATA SUITABLE FOR OVERSAMPLING"
   ]
  },
  {
   "cell_type": "code",
   "execution_count": 170,
   "id": "alternative-ownership",
   "metadata": {},
   "outputs": [],
   "source": [
    "class DataCleaner():\n",
    "    \n",
    "    def __init__(self, df, c):\n",
    "        self.df = df\n",
    "        global col\n",
    "        col = c\n",
    "        self.rem_dup()\n",
    "        self.rem_nan()\n",
    "        self.rem_low()\n",
    "    \n",
    "    def rem_dup(self):\n",
    "        x = self.df.drop(col, axis = 1, inplace = False)\n",
    "        y = pd.DataFrame(self.df[col])\n",
    "        self.x = x \n",
    "        self.y = y\n",
    "    def rem_nan(self):\n",
    "        ind = self.y[col].notna()\n",
    "        self.x = self.x[ind]*10\n",
    "        self.y = self.y[ind]*10\n",
    "    \n",
    "    def rem_low(self):\n",
    "        s=self.y[col].value_counts().gt(4)\n",
    "        ind = self.y[col].isin(s[s].index)\n",
    "        \n",
    "        self.x = self.x[ind]\n",
    "        self.y = self.y[ind]\n",
    "        self.x = self.x.fillna(0)\n",
    "        "
   ]
  },
  {
   "cell_type": "code",
   "execution_count": 171,
   "id": "hidden-tyler",
   "metadata": {},
   "outputs": [],
   "source": [
    "dc = DataCleaner(df1, 'BOD_Y')\n",
    "dc.y['BOD_Y'].value_counts()\n",
    "x = dc.x\n",
    "y = dc.y"
   ]
  },
  {
   "cell_type": "code",
   "execution_count": 172,
   "id": "collected-paint",
   "metadata": {},
   "outputs": [],
   "source": [
    "xr, yr = SMOTE(k_neighbors=3).fit_resample(x, y)\n",
    "xr = xr/10\n",
    "yr = yr/10"
   ]
  },
  {
   "cell_type": "code",
   "execution_count": 173,
   "id": "headed-adult",
   "metadata": {},
   "outputs": [
    {
     "data": {
      "text/plain": [
       "6.0    848\n",
       "5.0    848\n",
       "5.8    848\n",
       "5.4    848\n",
       "5.2    848\n",
       "6.2    848\n",
       "Name: BOD_Y, dtype: int64"
      ]
     },
     "execution_count": 173,
     "metadata": {},
     "output_type": "execute_result"
    }
   ],
   "source": [
    "yr['BOD_Y'].value_counts()"
   ]
  },
  {
   "cell_type": "code",
   "execution_count": 174,
   "id": "musical-swift",
   "metadata": {},
   "outputs": [
    {
     "data": {
      "text/html": [
       "<div>\n",
       "<style scoped>\n",
       "    .dataframe tbody tr th:only-of-type {\n",
       "        vertical-align: middle;\n",
       "    }\n",
       "\n",
       "    .dataframe tbody tr th {\n",
       "        vertical-align: top;\n",
       "    }\n",
       "\n",
       "    .dataframe thead th {\n",
       "        text-align: right;\n",
       "    }\n",
       "</style>\n",
       "<table border=\"1\" class=\"dataframe\">\n",
       "  <thead>\n",
       "    <tr style=\"text-align: right;\">\n",
       "      <th></th>\n",
       "      <th>BOD_Y</th>\n",
       "    </tr>\n",
       "  </thead>\n",
       "  <tbody>\n",
       "    <tr>\n",
       "      <th>0</th>\n",
       "      <td>5.0</td>\n",
       "    </tr>\n",
       "    <tr>\n",
       "      <th>1</th>\n",
       "      <td>5.0</td>\n",
       "    </tr>\n",
       "    <tr>\n",
       "      <th>2</th>\n",
       "      <td>5.0</td>\n",
       "    </tr>\n",
       "    <tr>\n",
       "      <th>3</th>\n",
       "      <td>5.0</td>\n",
       "    </tr>\n",
       "    <tr>\n",
       "      <th>4</th>\n",
       "      <td>5.0</td>\n",
       "    </tr>\n",
       "    <tr>\n",
       "      <th>...</th>\n",
       "      <td>...</td>\n",
       "    </tr>\n",
       "    <tr>\n",
       "      <th>5083</th>\n",
       "      <td>6.2</td>\n",
       "    </tr>\n",
       "    <tr>\n",
       "      <th>5084</th>\n",
       "      <td>6.2</td>\n",
       "    </tr>\n",
       "    <tr>\n",
       "      <th>5085</th>\n",
       "      <td>6.2</td>\n",
       "    </tr>\n",
       "    <tr>\n",
       "      <th>5086</th>\n",
       "      <td>6.2</td>\n",
       "    </tr>\n",
       "    <tr>\n",
       "      <th>5087</th>\n",
       "      <td>6.2</td>\n",
       "    </tr>\n",
       "  </tbody>\n",
       "</table>\n",
       "<p>5088 rows × 1 columns</p>\n",
       "</div>"
      ],
      "text/plain": [
       "      BOD_Y\n",
       "0       5.0\n",
       "1       5.0\n",
       "2       5.0\n",
       "3       5.0\n",
       "4       5.0\n",
       "...     ...\n",
       "5083    6.2\n",
       "5084    6.2\n",
       "5085    6.2\n",
       "5086    6.2\n",
       "5087    6.2\n",
       "\n",
       "[5088 rows x 1 columns]"
      ]
     },
     "execution_count": 174,
     "metadata": {},
     "output_type": "execute_result"
    }
   ],
   "source": [
    "yr"
   ]
  },
  {
   "cell_type": "code",
   "execution_count": 175,
   "id": "loose-dodge",
   "metadata": {},
   "outputs": [
    {
     "data": {
      "text/plain": [
       "<seaborn.axisgrid.FacetGrid at 0x148e0c5c610>"
      ]
     },
     "execution_count": 175,
     "metadata": {},
     "output_type": "execute_result"
    },
    {
     "data": {
      "image/png": "[encoded data removed]",
      "text/plain": [
       "<Figure size 360x360 with 1 Axes>"
      ]
     },
     "metadata": {
      "needs_background": "light"
     },
     "output_type": "display_data"
    }
   ],
   "source": [
    "sns.displot(yr, x = \"BOD_Y\", binwidth=0.5)"
   ]
  },
  {
   "cell_type": "code",
   "execution_count": 176,
   "id": "generic-vegetable",
   "metadata": {},
   "outputs": [
    {
     "data": {
      "image/png": "[encoded data removed]",
      "text/plain": [
       "<Figure size 360x360 with 1 Axes>"
      ]
     },
     "metadata": {
      "needs_background": "light"
     },
     "output_type": "display_data"
    }
   ],
   "source": [
    "tdf = pd.concat([xr, yr], axis = 1)\n",
    "sns.relplot(data = tdf, y = 'BOD_Y', x = tdf.index)\n",
    "plt.show()"
   ]
  },
  {
   "cell_type": "code",
   "execution_count": 177,
   "id": "demonstrated-target",
   "metadata": {},
   "outputs": [
    {
     "data": {
      "text/plain": [
       "6.0    848\n",
       "5.0    848\n",
       "5.8    848\n",
       "5.4    848\n",
       "5.2    848\n",
       "6.2    848\n",
       "Name: BOD_Y, dtype: int64"
      ]
     },
     "execution_count": 177,
     "metadata": {},
     "output_type": "execute_result"
    }
   ],
   "source": [
    "tdf['BOD_Y'].value_counts()"
   ]
  },
  {
   "cell_type": "markdown",
   "id": "stuck-flush",
   "metadata": {},
   "source": [
    "# DATA IS OVER SAMPLED NOW. BELOW ARE THE METHODS TO CREATE MODELS AND MAKE PREDICTIONS"
   ]
  },
  {
   "cell_type": "code",
   "execution_count": 103,
   "id": "mediterranean-hurricane",
   "metadata": {},
   "outputs": [],
   "source": [
    "from sklearn import svm\n",
    "from sklearn.ensemble import RandomForestRegressor\n",
    "from sklearn.metrics import mean_squared_error as loss\n",
    "from sklearn import preprocessing\n",
    "from sklearn.model_selection import train_test_split\n",
    "from sklearn.metrics import accuracy_score"
   ]
  },
  {
   "cell_type": "code",
   "execution_count": 291,
   "id": "experimental-niagara",
   "metadata": {},
   "outputs": [],
   "source": [
    "def find_accuracy(x,y, ch = 'rf'):\n",
    "    print(ch)\n",
    "    if ch == 'xg':\n",
    "        clf = xg.XGBRegressor()\n",
    "    elif ch == 'rf':\n",
    "        clf = RandomForestRegressor()\n",
    "    x_train, x_test, y_train, y_test = train_test_split(x, y)\n",
    "    clf.fit(x_train, y_train)\n",
    "    y_pred_te = clf.predict(x_test)\n",
    "    print(loss(y_pred_te, y_test), 'test')\n",
    "    y_pred_tr = clf.predict(x_train)\n",
    "    print(loss(y_pred_tr, y_train), 'train')\n",
    "    return y_pred_tr, y_pred_te"
   ]
  },
  {
   "cell_type": "code",
   "execution_count": 292,
   "id": "herbal-mattress",
   "metadata": {},
   "outputs": [
    {
     "name": "stdout",
     "output_type": "stream",
     "text": [
      "rf\n",
      "0.038210660633484154 test\n",
      "0.004211933634992469 train\n"
     ]
    },
    {
     "name": "stderr",
     "output_type": "stream",
     "text": [
      "<ipython-input-291-24cabe125d31>:8: DataConversionWarning: A column-vector y was passed when a 1d array was expected. Please change the shape of y to (n_samples,), for example using ravel().\n",
      "  clf.fit(x_train, y_train)\n"
     ]
    }
   ],
   "source": [
    "y_tr, y_te = find_accuracy(tx, ty, 'rf')"
   ]
  },
  {
   "cell_type": "code",
   "execution_count": 293,
   "id": "advanced-remove",
   "metadata": {},
   "outputs": [
    {
     "name": "stdout",
     "output_type": "stream",
     "text": [
      "xg\n",
      "0.015015739933130821 test\n",
      "0.0008854144636919628 train\n"
     ]
    }
   ],
   "source": [
    "y_tr, y_te = find_accuracy(xr,yr, 'xg')"
   ]
  },
  {
   "cell_type": "code",
   "execution_count": 294,
   "id": "atomic-eleven",
   "metadata": {},
   "outputs": [],
   "source": [
    "x_train, x_test, y_train, y_test = train_test_split(xr, yr)\n",
    "clf = xg.XGBRegressor()\n",
    "clf.fit(x_train, y_train)\n",
    "\n",
    "p_train = clf.predict(x_train)\n",
    "p_test = clf.predict(x_test)\n",
    "ind = p_test<5\n",
    "p_test[ind] = 5\n",
    "ind = p_train<5\n",
    "p_train[ind] = 5"
   ]
  },
  {
   "cell_type": "code",
   "execution_count": 164,
   "id": "smooth-jaguar",
   "metadata": {},
   "outputs": [
    {
     "data": {
      "text/plain": [
       "<seaborn.axisgrid.FacetGrid at 0x148e0f1ddc0>"
      ]
     },
     "execution_count": 164,
     "metadata": {},
     "output_type": "execute_result"
    },
    {
     "data": {
      "image/png": "[encoded data removed]",
      "text/plain": [
       "<Figure size 429.25x360 with 1 Axes>"
      ]
     },
     "metadata": {
      "needs_background": "light"
     },
     "output_type": "display_data"
    }
   ],
   "source": [
    "sns.displot(y_train, binwidth=0.3) # ORIGINAL TEST DATA"
   ]
  },
  {
   "cell_type": "code",
   "execution_count": 165,
   "id": "waiting-priority",
   "metadata": {},
   "outputs": [
    {
     "data": {
      "text/plain": [
       "<seaborn.axisgrid.FacetGrid at 0x148e0ffb730>"
      ]
     },
     "execution_count": 165,
     "metadata": {},
     "output_type": "execute_result"
    },
    {
     "data": {
      "image/png": "[encoded data removed]",
      "text/plain": [
       "<Figure size 360x360 with 1 Axes>"
      ]
     },
     "metadata": {
      "needs_background": "light"
     },
     "output_type": "display_data"
    }
   ],
   "source": [
    "sns.displot(p_train, binwidth=0.3) # PREDICTED TEST DATA"
   ]
  },
  {
   "cell_type": "code",
   "execution_count": 179,
   "id": "innocent-monaco",
   "metadata": {},
   "outputs": [],
   "source": [
    "def clean_y(y, thr):\n",
    "    ind = y<thr\n",
    "    y[thr] = thr\n",
    "    return y"
   ]
  },
  {
   "cell_type": "markdown",
   "id": "secure-trustee",
   "metadata": {},
   "source": [
    "# GRAPH FOR RANDOM FORESTS HYPER PARAMETERS PERFORMANCE AGAINST LOSS"
   ]
  },
  {
   "cell_type": "code",
   "execution_count": 225,
   "id": "existing-tunisia",
   "metadata": {},
   "outputs": [
    {
     "name": "stderr",
     "output_type": "stream",
     "text": [
      "<ipython-input-225-82ccffdb37c0>:8: DataConversionWarning: A column-vector y was passed when a 1d array was expected. Please change the shape of y to (n_samples,), for example using ravel().\n",
      "  clf.fit(x_train, y_train)\n",
      "<ipython-input-225-82ccffdb37c0>:8: DataConversionWarning: A column-vector y was passed when a 1d array was expected. Please change the shape of y to (n_samples,), for example using ravel().\n",
      "  clf.fit(x_train, y_train)\n"
     ]
    },
    {
     "name": "stdout",
     "output_type": "stream",
     "text": [
      "1 done\n",
      "2 done\n"
     ]
    },
    {
     "name": "stderr",
     "output_type": "stream",
     "text": [
      "<ipython-input-225-82ccffdb37c0>:8: DataConversionWarning: A column-vector y was passed when a 1d array was expected. Please change the shape of y to (n_samples,), for example using ravel().\n",
      "  clf.fit(x_train, y_train)\n"
     ]
    },
    {
     "name": "stdout",
     "output_type": "stream",
     "text": [
      "3 done\n"
     ]
    },
    {
     "name": "stderr",
     "output_type": "stream",
     "text": [
      "<ipython-input-225-82ccffdb37c0>:8: DataConversionWarning: A column-vector y was passed when a 1d array was expected. Please change the shape of y to (n_samples,), for example using ravel().\n",
      "  clf.fit(x_train, y_train)\n"
     ]
    },
    {
     "name": "stdout",
     "output_type": "stream",
     "text": [
      "4 done\n"
     ]
    },
    {
     "name": "stderr",
     "output_type": "stream",
     "text": [
      "<ipython-input-225-82ccffdb37c0>:8: DataConversionWarning: A column-vector y was passed when a 1d array was expected. Please change the shape of y to (n_samples,), for example using ravel().\n",
      "  clf.fit(x_train, y_train)\n"
     ]
    },
    {
     "name": "stdout",
     "output_type": "stream",
     "text": [
      "5 done\n"
     ]
    },
    {
     "name": "stderr",
     "output_type": "stream",
     "text": [
      "<ipython-input-225-82ccffdb37c0>:8: DataConversionWarning: A column-vector y was passed when a 1d array was expected. Please change the shape of y to (n_samples,), for example using ravel().\n",
      "  clf.fit(x_train, y_train)\n"
     ]
    },
    {
     "name": "stdout",
     "output_type": "stream",
     "text": [
      "6 done\n"
     ]
    },
    {
     "name": "stderr",
     "output_type": "stream",
     "text": [
      "<ipython-input-225-82ccffdb37c0>:8: DataConversionWarning: A column-vector y was passed when a 1d array was expected. Please change the shape of y to (n_samples,), for example using ravel().\n",
      "  clf.fit(x_train, y_train)\n"
     ]
    },
    {
     "name": "stdout",
     "output_type": "stream",
     "text": [
      "7 done\n"
     ]
    },
    {
     "name": "stderr",
     "output_type": "stream",
     "text": [
      "<ipython-input-225-82ccffdb37c0>:8: DataConversionWarning: A column-vector y was passed when a 1d array was expected. Please change the shape of y to (n_samples,), for example using ravel().\n",
      "  clf.fit(x_train, y_train)\n"
     ]
    },
    {
     "name": "stdout",
     "output_type": "stream",
     "text": [
      "8 done\n"
     ]
    },
    {
     "name": "stderr",
     "output_type": "stream",
     "text": [
      "<ipython-input-225-82ccffdb37c0>:8: DataConversionWarning: A column-vector y was passed when a 1d array was expected. Please change the shape of y to (n_samples,), for example using ravel().\n",
      "  clf.fit(x_train, y_train)\n"
     ]
    },
    {
     "name": "stdout",
     "output_type": "stream",
     "text": [
      "9 done\n"
     ]
    },
    {
     "name": "stderr",
     "output_type": "stream",
     "text": [
      "<ipython-input-225-82ccffdb37c0>:8: DataConversionWarning: A column-vector y was passed when a 1d array was expected. Please change the shape of y to (n_samples,), for example using ravel().\n",
      "  clf.fit(x_train, y_train)\n"
     ]
    },
    {
     "name": "stdout",
     "output_type": "stream",
     "text": [
      "10 done\n"
     ]
    },
    {
     "name": "stderr",
     "output_type": "stream",
     "text": [
      "<ipython-input-225-82ccffdb37c0>:8: DataConversionWarning: A column-vector y was passed when a 1d array was expected. Please change the shape of y to (n_samples,), for example using ravel().\n",
      "  clf.fit(x_train, y_train)\n"
     ]
    },
    {
     "name": "stdout",
     "output_type": "stream",
     "text": [
      "11 done\n"
     ]
    },
    {
     "name": "stderr",
     "output_type": "stream",
     "text": [
      "<ipython-input-225-82ccffdb37c0>:8: DataConversionWarning: A column-vector y was passed when a 1d array was expected. Please change the shape of y to (n_samples,), for example using ravel().\n",
      "  clf.fit(x_train, y_train)\n"
     ]
    },
    {
     "name": "stdout",
     "output_type": "stream",
     "text": [
      "12 done\n"
     ]
    },
    {
     "name": "stderr",
     "output_type": "stream",
     "text": [
      "<ipython-input-225-82ccffdb37c0>:8: DataConversionWarning: A column-vector y was passed when a 1d array was expected. Please change the shape of y to (n_samples,), for example using ravel().\n",
      "  clf.fit(x_train, y_train)\n"
     ]
    },
    {
     "name": "stdout",
     "output_type": "stream",
     "text": [
      "13 done\n"
     ]
    },
    {
     "name": "stderr",
     "output_type": "stream",
     "text": [
      "<ipython-input-225-82ccffdb37c0>:8: DataConversionWarning: A column-vector y was passed when a 1d array was expected. Please change the shape of y to (n_samples,), for example using ravel().\n",
      "  clf.fit(x_train, y_train)\n"
     ]
    },
    {
     "name": "stdout",
     "output_type": "stream",
     "text": [
      "14 done\n"
     ]
    },
    {
     "name": "stderr",
     "output_type": "stream",
     "text": [
      "<ipython-input-225-82ccffdb37c0>:8: DataConversionWarning: A column-vector y was passed when a 1d array was expected. Please change the shape of y to (n_samples,), for example using ravel().\n",
      "  clf.fit(x_train, y_train)\n"
     ]
    },
    {
     "name": "stdout",
     "output_type": "stream",
     "text": [
      "15 done\n"
     ]
    },
    {
     "name": "stderr",
     "output_type": "stream",
     "text": [
      "<ipython-input-225-82ccffdb37c0>:8: DataConversionWarning: A column-vector y was passed when a 1d array was expected. Please change the shape of y to (n_samples,), for example using ravel().\n",
      "  clf.fit(x_train, y_train)\n"
     ]
    },
    {
     "name": "stdout",
     "output_type": "stream",
     "text": [
      "16 done\n"
     ]
    },
    {
     "name": "stderr",
     "output_type": "stream",
     "text": [
      "<ipython-input-225-82ccffdb37c0>:8: DataConversionWarning: A column-vector y was passed when a 1d array was expected. Please change the shape of y to (n_samples,), for example using ravel().\n",
      "  clf.fit(x_train, y_train)\n"
     ]
    },
    {
     "name": "stdout",
     "output_type": "stream",
     "text": [
      "17 done\n"
     ]
    },
    {
     "name": "stderr",
     "output_type": "stream",
     "text": [
      "<ipython-input-225-82ccffdb37c0>:8: DataConversionWarning: A column-vector y was passed when a 1d array was expected. Please change the shape of y to (n_samples,), for example using ravel().\n",
      "  clf.fit(x_train, y_train)\n"
     ]
    },
    {
     "name": "stdout",
     "output_type": "stream",
     "text": [
      "18 done\n"
     ]
    },
    {
     "name": "stderr",
     "output_type": "stream",
     "text": [
      "<ipython-input-225-82ccffdb37c0>:8: DataConversionWarning: A column-vector y was passed when a 1d array was expected. Please change the shape of y to (n_samples,), for example using ravel().\n",
      "  clf.fit(x_train, y_train)\n"
     ]
    },
    {
     "name": "stdout",
     "output_type": "stream",
     "text": [
      "19 done\n"
     ]
    },
    {
     "name": "stderr",
     "output_type": "stream",
     "text": [
      "<ipython-input-225-82ccffdb37c0>:8: DataConversionWarning: A column-vector y was passed when a 1d array was expected. Please change the shape of y to (n_samples,), for example using ravel().\n",
      "  clf.fit(x_train, y_train)\n"
     ]
    },
    {
     "name": "stdout",
     "output_type": "stream",
     "text": [
      "20 done\n"
     ]
    },
    {
     "name": "stderr",
     "output_type": "stream",
     "text": [
      "<ipython-input-225-82ccffdb37c0>:8: DataConversionWarning: A column-vector y was passed when a 1d array was expected. Please change the shape of y to (n_samples,), for example using ravel().\n",
      "  clf.fit(x_train, y_train)\n"
     ]
    },
    {
     "name": "stdout",
     "output_type": "stream",
     "text": [
      "21 done\n"
     ]
    },
    {
     "name": "stderr",
     "output_type": "stream",
     "text": [
      "<ipython-input-225-82ccffdb37c0>:8: DataConversionWarning: A column-vector y was passed when a 1d array was expected. Please change the shape of y to (n_samples,), for example using ravel().\n",
      "  clf.fit(x_train, y_train)\n"
     ]
    },
    {
     "name": "stdout",
     "output_type": "stream",
     "text": [
      "22 done\n"
     ]
    },
    {
     "name": "stderr",
     "output_type": "stream",
     "text": [
      "<ipython-input-225-82ccffdb37c0>:8: DataConversionWarning: A column-vector y was passed when a 1d array was expected. Please change the shape of y to (n_samples,), for example using ravel().\n",
      "  clf.fit(x_train, y_train)\n"
     ]
    },
    {
     "name": "stdout",
     "output_type": "stream",
     "text": [
      "23 done\n"
     ]
    },
    {
     "name": "stderr",
     "output_type": "stream",
     "text": [
      "<ipython-input-225-82ccffdb37c0>:8: DataConversionWarning: A column-vector y was passed when a 1d array was expected. Please change the shape of y to (n_samples,), for example using ravel().\n",
      "  clf.fit(x_train, y_train)\n"
     ]
    },
    {
     "name": "stdout",
     "output_type": "stream",
     "text": [
      "24 done\n"
     ]
    }
   ],
   "source": [
    "d = {\n",
    "    'Depth':[],\n",
    "    'TrainLoss':[],\n",
    "    'TestLoss':[]\n",
    "    }\n",
    "for i in range(1,25):\n",
    "    clf = RandomForestRegressor(max_depth = i)\n",
    "    clf.fit(x_train, y_train)\n",
    "    d['TrainLoss'].append( loss(clf.predict(x_train), y_train ) )\n",
    "    d['TestLoss'].append( loss(clf.predict(x_test), y_test ) )\n",
    "    d['Depth'].append(i)\n",
    "    print(i, 'done')"
   ]
  },
  {
   "cell_type": "code",
   "execution_count": 226,
   "id": "overall-spouse",
   "metadata": {},
   "outputs": [
    {
     "data": {
      "text/plain": [
       "{'Depth': [1,\n",
       "  2,\n",
       "  3,\n",
       "  4,\n",
       "  5,\n",
       "  6,\n",
       "  7,\n",
       "  8,\n",
       "  9,\n",
       "  10,\n",
       "  11,\n",
       "  12,\n",
       "  13,\n",
       "  14,\n",
       "  15,\n",
       "  16,\n",
       "  17,\n",
       "  18,\n",
       "  19,\n",
       "  20,\n",
       "  21,\n",
       "  22,\n",
       "  23,\n",
       "  24],\n",
       " 'TrainLoss': [0.17216149326588476,\n",
       "  0.15287744233683506,\n",
       "  0.13247594584215278,\n",
       "  0.10900374127972551,\n",
       "  0.09039096111351315,\n",
       "  0.07030408195813287,\n",
       "  0.05512346517371013,\n",
       "  0.03899162020122091,\n",
       "  0.02613394764396636,\n",
       "  0.017255543349442078,\n",
       "  0.01091691637452164,\n",
       "  0.007163594166419063,\n",
       "  0.0050040588759183964,\n",
       "  0.003949648500086033,\n",
       "  0.003199081499052042,\n",
       "  0.002692043004587726,\n",
       "  0.0023189178347477616,\n",
       "  0.00227716358737874,\n",
       "  0.0021301761434191313,\n",
       "  0.0021913800667694517,\n",
       "  0.0020299768393494165,\n",
       "  0.002197853462803691,\n",
       "  0.0020393459119496635,\n",
       "  0.002225112159329121],\n",
       " 'TestLoss': [0.17427914811276055,\n",
       "  0.15990790991588058,\n",
       "  0.1389439178106303,\n",
       "  0.11467441519798909,\n",
       "  0.09396648468972174,\n",
       "  0.07329098334762556,\n",
       "  0.06061302861151961,\n",
       "  0.044711745212879475,\n",
       "  0.034251819804700157,\n",
       "  0.026191873571565272,\n",
       "  0.019748780166180105,\n",
       "  0.01712259862565626,\n",
       "  0.014390297560367915,\n",
       "  0.014197421453994904,\n",
       "  0.013804585098825243,\n",
       "  0.012921923855564257,\n",
       "  0.012011708454914687,\n",
       "  0.012135387645805008,\n",
       "  0.012831214255781636,\n",
       "  0.01283677778713528,\n",
       "  0.012485149807704194,\n",
       "  0.012763203917625716,\n",
       "  0.01275414150943392,\n",
       "  0.01290816037735847]}"
      ]
     },
     "execution_count": 226,
     "metadata": {},
     "output_type": "execute_result"
    }
   ],
   "source": [
    "d"
   ]
  },
  {
   "cell_type": "code",
   "execution_count": 227,
   "id": "appropriate-vertex",
   "metadata": {},
   "outputs": [
    {
     "data": {
      "text/html": [
       "<div>\n",
       "<style scoped>\n",
       "    .dataframe tbody tr th:only-of-type {\n",
       "        vertical-align: middle;\n",
       "    }\n",
       "\n",
       "    .dataframe tbody tr th {\n",
       "        vertical-align: top;\n",
       "    }\n",
       "\n",
       "    .dataframe thead th {\n",
       "        text-align: right;\n",
       "    }\n",
       "</style>\n",
       "<table border=\"1\" class=\"dataframe\">\n",
       "  <thead>\n",
       "    <tr style=\"text-align: right;\">\n",
       "      <th></th>\n",
       "      <th>Depth</th>\n",
       "      <th>TrainLoss</th>\n",
       "      <th>TestLoss</th>\n",
       "    </tr>\n",
       "  </thead>\n",
       "  <tbody>\n",
       "    <tr>\n",
       "      <th>0</th>\n",
       "      <td>1</td>\n",
       "      <td>0.172161</td>\n",
       "      <td>0.174279</td>\n",
       "    </tr>\n",
       "    <tr>\n",
       "      <th>1</th>\n",
       "      <td>2</td>\n",
       "      <td>0.152877</td>\n",
       "      <td>0.159908</td>\n",
       "    </tr>\n",
       "    <tr>\n",
       "      <th>2</th>\n",
       "      <td>3</td>\n",
       "      <td>0.132476</td>\n",
       "      <td>0.138944</td>\n",
       "    </tr>\n",
       "    <tr>\n",
       "      <th>3</th>\n",
       "      <td>4</td>\n",
       "      <td>0.109004</td>\n",
       "      <td>0.114674</td>\n",
       "    </tr>\n",
       "    <tr>\n",
       "      <th>4</th>\n",
       "      <td>5</td>\n",
       "      <td>0.090391</td>\n",
       "      <td>0.093966</td>\n",
       "    </tr>\n",
       "    <tr>\n",
       "      <th>5</th>\n",
       "      <td>6</td>\n",
       "      <td>0.070304</td>\n",
       "      <td>0.073291</td>\n",
       "    </tr>\n",
       "    <tr>\n",
       "      <th>6</th>\n",
       "      <td>7</td>\n",
       "      <td>0.055123</td>\n",
       "      <td>0.060613</td>\n",
       "    </tr>\n",
       "    <tr>\n",
       "      <th>7</th>\n",
       "      <td>8</td>\n",
       "      <td>0.038992</td>\n",
       "      <td>0.044712</td>\n",
       "    </tr>\n",
       "    <tr>\n",
       "      <th>8</th>\n",
       "      <td>9</td>\n",
       "      <td>0.026134</td>\n",
       "      <td>0.034252</td>\n",
       "    </tr>\n",
       "    <tr>\n",
       "      <th>9</th>\n",
       "      <td>10</td>\n",
       "      <td>0.017256</td>\n",
       "      <td>0.026192</td>\n",
       "    </tr>\n",
       "    <tr>\n",
       "      <th>10</th>\n",
       "      <td>11</td>\n",
       "      <td>0.010917</td>\n",
       "      <td>0.019749</td>\n",
       "    </tr>\n",
       "    <tr>\n",
       "      <th>11</th>\n",
       "      <td>12</td>\n",
       "      <td>0.007164</td>\n",
       "      <td>0.017123</td>\n",
       "    </tr>\n",
       "    <tr>\n",
       "      <th>12</th>\n",
       "      <td>13</td>\n",
       "      <td>0.005004</td>\n",
       "      <td>0.014390</td>\n",
       "    </tr>\n",
       "    <tr>\n",
       "      <th>13</th>\n",
       "      <td>14</td>\n",
       "      <td>0.003950</td>\n",
       "      <td>0.014197</td>\n",
       "    </tr>\n",
       "    <tr>\n",
       "      <th>14</th>\n",
       "      <td>15</td>\n",
       "      <td>0.003199</td>\n",
       "      <td>0.013805</td>\n",
       "    </tr>\n",
       "    <tr>\n",
       "      <th>15</th>\n",
       "      <td>16</td>\n",
       "      <td>0.002692</td>\n",
       "      <td>0.012922</td>\n",
       "    </tr>\n",
       "    <tr>\n",
       "      <th>16</th>\n",
       "      <td>17</td>\n",
       "      <td>0.002319</td>\n",
       "      <td>0.012012</td>\n",
       "    </tr>\n",
       "    <tr>\n",
       "      <th>17</th>\n",
       "      <td>18</td>\n",
       "      <td>0.002277</td>\n",
       "      <td>0.012135</td>\n",
       "    </tr>\n",
       "    <tr>\n",
       "      <th>18</th>\n",
       "      <td>19</td>\n",
       "      <td>0.002130</td>\n",
       "      <td>0.012831</td>\n",
       "    </tr>\n",
       "    <tr>\n",
       "      <th>19</th>\n",
       "      <td>20</td>\n",
       "      <td>0.002191</td>\n",
       "      <td>0.012837</td>\n",
       "    </tr>\n",
       "    <tr>\n",
       "      <th>20</th>\n",
       "      <td>21</td>\n",
       "      <td>0.002030</td>\n",
       "      <td>0.012485</td>\n",
       "    </tr>\n",
       "    <tr>\n",
       "      <th>21</th>\n",
       "      <td>22</td>\n",
       "      <td>0.002198</td>\n",
       "      <td>0.012763</td>\n",
       "    </tr>\n",
       "    <tr>\n",
       "      <th>22</th>\n",
       "      <td>23</td>\n",
       "      <td>0.002039</td>\n",
       "      <td>0.012754</td>\n",
       "    </tr>\n",
       "    <tr>\n",
       "      <th>23</th>\n",
       "      <td>24</td>\n",
       "      <td>0.002225</td>\n",
       "      <td>0.012908</td>\n",
       "    </tr>\n",
       "  </tbody>\n",
       "</table>\n",
       "</div>"
      ],
      "text/plain": [
       "    Depth  TrainLoss  TestLoss\n",
       "0       1   0.172161  0.174279\n",
       "1       2   0.152877  0.159908\n",
       "2       3   0.132476  0.138944\n",
       "3       4   0.109004  0.114674\n",
       "4       5   0.090391  0.093966\n",
       "5       6   0.070304  0.073291\n",
       "6       7   0.055123  0.060613\n",
       "7       8   0.038992  0.044712\n",
       "8       9   0.026134  0.034252\n",
       "9      10   0.017256  0.026192\n",
       "10     11   0.010917  0.019749\n",
       "11     12   0.007164  0.017123\n",
       "12     13   0.005004  0.014390\n",
       "13     14   0.003950  0.014197\n",
       "14     15   0.003199  0.013805\n",
       "15     16   0.002692  0.012922\n",
       "16     17   0.002319  0.012012\n",
       "17     18   0.002277  0.012135\n",
       "18     19   0.002130  0.012831\n",
       "19     20   0.002191  0.012837\n",
       "20     21   0.002030  0.012485\n",
       "21     22   0.002198  0.012763\n",
       "22     23   0.002039  0.012754\n",
       "23     24   0.002225  0.012908"
      ]
     },
     "execution_count": 227,
     "metadata": {},
     "output_type": "execute_result"
    }
   ],
   "source": [
    "data = pd.DataFrame(d)\n",
    "data"
   ]
  },
  {
   "cell_type": "code",
   "execution_count": 241,
   "id": "labeled-resort",
   "metadata": {},
   "outputs": [
    {
     "data": {
      "text/plain": [
       "<AxesSubplot:xlabel='Tree Depth', ylabel='Loss'>"
      ]
     },
     "execution_count": 241,
     "metadata": {},
     "output_type": "execute_result"
    },
    {
     "data": {
      "image/png": "[encoded data removed]",
      "text/plain": [
       "<Figure size 1080x1080 with 1 Axes>"
      ]
     },
     "metadata": {},
     "output_type": "display_data"
    }
   ],
   "source": [
    "fig_dims = (15, 15)\n",
    "fig, ax = plt.subplots(figsize=fig_dims)\n",
    "ax.set(xlabel='Tree Depth', ylabel='Loss')\n",
    "sns.lineplot(data=data,  x=\"Depth\", y = 'TrainLoss', color=\"skyblue\", label=\"Train Loss\", ax = ax, marker = 'o',markersize=14, markers=True)\n",
    "sns.lineplot(data=data,  x=\"Depth\", y = 'TestLoss', color = 'orange', label=\"Test Loss\", ax = ax, marker = 'o',markersize=14, markers=True)"
   ]
  },
  {
   "cell_type": "markdown",
   "id": "optimum-chassis",
   "metadata": {},
   "source": [
    "# TENSOR FLOW CODE"
   ]
  },
  {
   "cell_type": "code",
   "execution_count": 243,
   "id": "neutral-manufacturer",
   "metadata": {},
   "outputs": [],
   "source": [
    "import tensorflow as tf"
   ]
  },
  {
   "cell_type": "code",
   "execution_count": 267,
   "id": "psychological-wings",
   "metadata": {},
   "outputs": [],
   "source": [
    "model = tf.keras.Sequential([\n",
    "    tf.keras.layers.Dense(32, activation=tf.nn.sigmoid),\n",
    "    tf.keras.layers.Dense(64, activation=tf.nn.sigmoid),\n",
    "    tf.keras.layers.Dense(64, activation=tf.nn.sigmoid),\n",
    "    tf.keras.layers.Dense(32, activation=tf.nn.sigmoid),\n",
    "    tf.keras.layers.Dense(16, activation=tf.nn.sigmoid),\n",
    "    tf.keras.layers.Dense(1, activation='linear')\n",
    "])"
   ]
  },
  {
   "cell_type": "code",
   "execution_count": 268,
   "id": "veterinary-armenia",
   "metadata": {},
   "outputs": [],
   "source": [
    "model.compile(loss=\"mean_absolute_error\", optimizer='adam')"
   ]
  },
  {
   "cell_type": "code",
   "execution_count": 272,
   "id": "exterior-apartment",
   "metadata": {},
   "outputs": [
    {
     "name": "stdout",
     "output_type": "stream",
     "text": [
      "Epoch 1/30\n",
      "120/120 [==============================] - 1s 4ms/step - loss: 0.3995\n",
      "Epoch 2/30\n",
      "120/120 [==============================] - 1s 4ms/step - loss: 0.4001\n",
      "Epoch 3/30\n",
      "120/120 [==============================] - 1s 4ms/step - loss: 0.3993\n",
      "Epoch 4/30\n",
      "120/120 [==============================] - 1s 5ms/step - loss: 0.4000\n",
      "Epoch 5/30\n",
      "120/120 [==============================] - 1s 4ms/step - loss: 0.3995\n",
      "Epoch 6/30\n",
      "120/120 [==============================] - 1s 5ms/step - loss: 0.3998\n",
      "Epoch 7/30\n",
      "120/120 [==============================] - 1s 5ms/step - loss: 0.3998\n",
      "Epoch 8/30\n",
      "120/120 [==============================] - 1s 5ms/step - loss: 0.3996\n",
      "Epoch 9/30\n",
      "120/120 [==============================] - 1s 5ms/step - loss: 0.3994\n",
      "Epoch 10/30\n",
      "120/120 [==============================] - 1s 5ms/step - loss: 0.4003\n",
      "Epoch 11/30\n",
      "120/120 [==============================] - 1s 5ms/step - loss: 0.3993\n",
      "Epoch 12/30\n",
      "120/120 [==============================] - 1s 4ms/step - loss: 0.3999\n",
      "Epoch 13/30\n",
      "120/120 [==============================] - 1s 5ms/step - loss: 0.3997\n",
      "Epoch 14/30\n",
      "120/120 [==============================] - 1s 5ms/step - loss: 0.3989\n",
      "Epoch 15/30\n",
      "120/120 [==============================] - 1s 5ms/step - loss: 0.3996\n",
      "Epoch 16/30\n",
      "120/120 [==============================] - 1s 5ms/step - loss: 0.3966\n",
      "Epoch 17/30\n",
      "120/120 [==============================] - 1s 4ms/step - loss: 0.3745\n",
      "Epoch 18/30\n",
      "120/120 [==============================] - 1s 4ms/step - loss: 0.3381\n",
      "Epoch 19/30\n",
      "120/120 [==============================] - 1s 5ms/step - loss: 0.3391\n",
      "Epoch 20/30\n",
      "120/120 [==============================] - 1s 4ms/step - loss: 0.3333\n",
      "Epoch 21/30\n",
      "120/120 [==============================] - 1s 5ms/step - loss: 0.3313\n",
      "Epoch 22/30\n",
      "120/120 [==============================] - 1s 5ms/step - loss: 0.3353\n",
      "Epoch 23/30\n",
      "120/120 [==============================] - 1s 5ms/step - loss: 0.3335\n",
      "Epoch 24/30\n",
      "120/120 [==============================] - 1s 5ms/step - loss: 0.3290\n",
      "Epoch 25/30\n",
      "120/120 [==============================] - 1s 5ms/step - loss: 0.3321\n",
      "Epoch 26/30\n",
      "120/120 [==============================] - 1s 5ms/step - loss: 0.3287\n",
      "Epoch 27/30\n",
      "120/120 [==============================] - 1s 5ms/step - loss: 0.3250\n",
      "Epoch 28/30\n",
      "120/120 [==============================] - 1s 5ms/step - loss: 0.3259\n",
      "Epoch 29/30\n",
      "120/120 [==============================] - 1s 5ms/step - loss: 0.3250\n",
      "Epoch 30/30\n",
      "120/120 [==============================] - 1s 4ms/step - loss: 0.3268\n"
     ]
    },
    {
     "data": {
      "text/plain": [
       "<tensorflow.python.keras.callbacks.History at 0x14a261fbca0>"
      ]
     },
     "execution_count": 272,
     "metadata": {},
     "output_type": "execute_result"
    }
   ],
   "source": [
    "model.fit(x_train, y_train, epochs = 30)"
   ]
  },
  {
   "cell_type": "code",
   "execution_count": 295,
   "id": "realistic-legislation",
   "metadata": {},
   "outputs": [
    {
     "name": "stdout",
     "output_type": "stream",
     "text": [
      "train error 0.19081583529932225\n"
     ]
    }
   ],
   "source": [
    "y_pred = model.predict(x_train)\n",
    "print('train error', loss(y_pred, y_train))"
   ]
  },
  {
   "cell_type": "code",
   "execution_count": 296,
   "id": "completed-navigation",
   "metadata": {},
   "outputs": [
    {
     "name": "stdout",
     "output_type": "stream",
     "text": [
      "test error 0.1999364249449539\n"
     ]
    }
   ],
   "source": [
    "y_pred = model.predict(x_test)\n",
    "print('test error', loss(y_pred, y_test))"
   ]
  },
  {
   "cell_type": "code",
   "execution_count": 297,
   "id": "level-allowance",
   "metadata": {},
   "outputs": [
    {
     "name": "stdout",
     "output_type": "stream",
     "text": [
      "rf\n"
     ]
    },
    {
     "name": "stderr",
     "output_type": "stream",
     "text": [
      "<ipython-input-291-24cabe125d31>:8: DataConversionWarning: A column-vector y was passed when a 1d array was expected. Please change the shape of y to (n_samples,), for example using ravel().\n",
      "  clf.fit(x_train, y_train)\n"
     ]
    },
    {
     "name": "stdout",
     "output_type": "stream",
     "text": [
      "0.01367198742138362 test\n",
      "0.0019416174004192749 train\n"
     ]
    },
    {
     "data": {
      "text/plain": [
       "(array([5.944, 5.8  , 5.024, ..., 5.002, 6.   , 5.8  ]),\n",
       " array([5.4  , 6.188, 5.8  , ..., 5.8  , 5.26 , 5.4  ]))"
      ]
     },
     "execution_count": 297,
     "metadata": {},
     "output_type": "execute_result"
    }
   ],
   "source": [
    "find_accuracy(xr, yr, 'rf')"
   ]
  },
  {
   "cell_type": "code",
   "execution_count": 298,
   "id": "popular-suite",
   "metadata": {},
   "outputs": [
    {
     "name": "stdout",
     "output_type": "stream",
     "text": [
      "xg\n",
      "0.014009898032866966 test\n",
      "0.0011047587316283627 train\n"
     ]
    },
    {
     "data": {
      "text/plain": [
       "(array([5.728746 , 5.817464 , 5.408069 , ..., 6.192452 , 5.7789407,\n",
       "        5.183477 ], dtype=float32),\n",
       " array([5.4168773, 5.457245 , 5.329783 , ..., 6.1303773, 5.7465887,\n",
       "        5.258726 ], dtype=float32))"
      ]
     },
     "execution_count": 298,
     "metadata": {},
     "output_type": "execute_result"
    }
   ],
   "source": [
    "find_accuracy(xr, yr, 'xg')"
   ]
  },
  {
   "cell_type": "markdown",
   "id": "becoming-income",
   "metadata": {},
   "source": [
    "# MANUALLY COPIED OVER THE LOSSES FROM DIFFERENT MODELS (THESE LOSSES ARE PRINTED AS WELL)"
   ]
  },
  {
   "cell_type": "code",
   "execution_count": 299,
   "id": "former-weight",
   "metadata": {},
   "outputs": [],
   "source": [
    "d = {\n",
    "    'Model':['TensorFlow', 'XGBoost', 'RandomForest'],\n",
    "    'TrainLoss':[0.19081583529932225, 0.0011047587316283627 , 0.0019416174004192749  ],\n",
    "    'TestLoss':[0.1999364249449539, 0.014009898032866966 , 0.01367198742138362 ]\n",
    "    }\n",
    "data = pd.DataFrame(d)"
   ]
  },
  {
   "cell_type": "code",
   "execution_count": 304,
   "id": "mathematical-infrared",
   "metadata": {},
   "outputs": [
    {
     "data": {
      "text/plain": [
       "<AxesSubplot:xlabel=' ', ylabel='Loss'>"
      ]
     },
     "execution_count": 304,
     "metadata": {},
     "output_type": "execute_result"
    },
    {
     "data": {
      "image/png": "[encoded data removed]",
      "text/plain": [
       "<Figure size 1080x1080 with 1 Axes>"
      ]
     },
     "metadata": {},
     "output_type": "display_data"
    }
   ],
   "source": [
    "fig_dims = (15, 15)\n",
    "fig, ax = plt.subplots(figsize=fig_dims)\n",
    "ax.set(xlabel=' ', ylabel='Loss')\n",
    "sns.lineplot(data=data,  x=\"Model\", y = 'TrainLoss', color=\"skyblue\", label=\"Train Loss\", ax = ax, marker = 'o',markersize=14, markers=True)\n",
    "sns.lineplot(data=data,  x=\"Model\", y = 'TestLoss', color = 'orange', label=\"Test Loss\", ax = ax, marker = 'o',markersize=14, markers=True)"
   ]
  },
  {
   "cell_type": "code",
   "execution_count": null,
   "id": "bound-practice",
   "metadata": {},
   "outputs": [],
   "source": []
  }
 ],
 "metadata": {
  "kernelspec": {
   "display_name": "Python 3",
   "language": "python",
   "name": "python3"
  },
  "language_info": {
   "codemirror_mode": {
    "name": "ipython",
    "version": 3
   },
   "file_extension": ".py",
   "mimetype": "text/x-python",
   "name": "python",
   "nbconvert_exporter": "python",
   "pygments_lexer": "ipython3",
   "version": "3.8.6"
  }
 },
 "nbformat": 4,
 "nbformat_minor": 5
}
